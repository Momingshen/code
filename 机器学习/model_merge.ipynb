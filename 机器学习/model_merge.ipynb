{
 "cells": [
  {
   "cell_type": "code",
   "execution_count": 1,
   "metadata": {
    "ExecuteTime": {
     "end_time": "2021-12-13T06:11:59.416182Z",
     "start_time": "2021-12-13T06:11:57.997449Z"
    }
   },
   "outputs": [
    {
     "name": "stdout",
     "output_type": "stream",
     "text": [
      "---  There is this folder!  ---\n"
     ]
    }
   ],
   "source": [
    "import os \n",
    "import pandas as pd \n",
    "def mkdir(path):\n",
    "    folder = os.path.exists(path)\n",
    "    if not folder:                   \n",
    "        os.makedirs(path)            \n",
    "        print(\"---  new folder...  ---\")\n",
    "        print(\"---  OK  ---\")\n",
    "    else:\n",
    "        print(\"---  There is this folder!  ---\")\n",
    "mkdir(\"./result/\") \n",
    "path='./results'\n",
    "pathdir=os.listdir(path)\n",
    "num=0\n",
    "ModelName=[]\n",
    "for i in pathdir:\n",
    "    if(i[-8:]=='best.csv'):\n",
    "        ModelName.append(i.split('_')[0])\n",
    "        path1=path+'/'+i\n",
    "        # print(path1)\n",
    "        df=pd.read_csv(path1)\n",
    "        data=pd.DataFrame([df.iloc[0,1:].values])\n",
    "        if num==0:\n",
    "            df_new=data\n",
    "            num+=1\n",
    "        else:\n",
    "            df_new=pd.concat([df_new,data])\n",
    "df_new.columns=['mse','rmse','mae','r2','mad','mape','r2_adjusted']\n",
    "df_new.index=ModelName\n",
    "df_new.to_csv('./result/cityin.csv')#.sort_values('r2_adjusted',ascending=False)\n",
    "\n",
    "num=0\n",
    "ModelName=[]\n",
    "for i in pathdir:\n",
    "    if(i[-8:]=='best.csv'):\n",
    "        ModelName.append(i.split('_')[0])\n",
    "        path1=path+'/'+i\n",
    "        # print(path1)\n",
    "        df=pd.read_csv(path1)\n",
    "        data=pd.DataFrame([df.iloc[1,1:].values])\n",
    "        if num==0:\n",
    "            df_new=data\n",
    "            num+=1\n",
    "        else:\n",
    "            df_new=pd.concat([df_new,data])\n",
    "df_new.columns=['mse','rmse','mae','r2','mad','mape','r2_adjusted']\n",
    "df_new.index=ModelName\n",
    "df_new.to_csv('./result/cityto.csv')#.sort_values('r2_adjusted',ascending=False)\n",
    "\n",
    "num=0\n",
    "ModelName=[]\n",
    "for i in pathdir:\n",
    "    if(i[-8:]=='best.csv'):\n",
    "        ModelName.append(i.split('_')[0])\n",
    "        path1=path+'/'+i\n",
    "        # print(path1)\n",
    "        df=pd.read_csv(path1)\n",
    "        data=pd.DataFrame([df.iloc[2,1:].values])\n",
    "        if num==0:\n",
    "            df_new=data\n",
    "            num+=1\n",
    "        else:\n",
    "            df_new=pd.concat([df_new,data])\n",
    "df_new.columns=['mse','rmse','mae','r2','mad','mape','r2_adjusted']\n",
    "df_new.index=ModelName\n",
    "df_new.to_csv('./result/incity.csv')#.sort_values('r2_adjusted',ascending=False)"
   ]
  },
  {
   "cell_type": "code",
   "execution_count": 2,
   "metadata": {
    "ExecuteTime": {
     "end_time": "2021-12-13T06:12:01.253212Z",
     "start_time": "2021-12-13T06:12:01.097238Z"
    }
   },
   "outputs": [
    {
     "name": "stdout",
     "output_type": "stream",
     "text": [
      "---  There is this folder!  ---\n"
     ]
    }
   ],
   "source": [
    "import os \n",
    "import pandas as pd \n",
    "def mkdir(path):\n",
    "    folder = os.path.exists(path)\n",
    "    if not folder:                   \n",
    "        os.makedirs(path)            \n",
    "        print(\"---  new folder...  ---\")\n",
    "        print(\"---  OK  ---\")\n",
    "    else:\n",
    "        print(\"---  There is this folder!  ---\")\n",
    "mkdir(\"./result/\") \n",
    "path='./results_merge'\n",
    "pathdir=os.listdir(path)\n",
    "num=0\n",
    "ModelName=[]\n",
    "for i in pathdir:\n",
    "    if(i[-8:]=='best.csv'):\n",
    "        ModelName.append(i.split('_')[0])\n",
    "        path1=path+'/'+i\n",
    "        # print(path1)\n",
    "        df=pd.read_csv(path1)\n",
    "        data=pd.DataFrame([df.iloc[0,1:].values])\n",
    "        if num==0:\n",
    "            df_new=data\n",
    "            num+=1\n",
    "        else:\n",
    "            df_new=pd.concat([df_new,data])\n",
    "df_new.columns=['mse','rmse','mae','r2','mad','mape','r2_adjusted']\n",
    "df_new.index=ModelName\n",
    "df_new.to_csv('./result/cityin1.csv')#.sort_values('r2_adjusted',ascending=False)\n",
    "\n",
    "num=0\n",
    "ModelName=[]\n",
    "for i in pathdir:\n",
    "    if(i[-8:]=='best.csv'):\n",
    "        ModelName.append(i.split('_')[0])\n",
    "        path1=path+'/'+i\n",
    "        # print(path1)\n",
    "        df=pd.read_csv(path1)\n",
    "        data=pd.DataFrame([df.iloc[1,1:].values])\n",
    "        if num==0:\n",
    "            df_new=data\n",
    "            num+=1\n",
    "        else:\n",
    "            df_new=pd.concat([df_new,data])\n",
    "df_new.columns=['mse','rmse','mae','r2','mad','mape','r2_adjusted']\n",
    "df_new.index=ModelName\n",
    "df_new.to_csv('./result/cityto1.csv')#.sort_values('r2_adjusted',ascending=False)\n",
    "\n",
    "num=0\n",
    "ModelName=[]\n",
    "for i in pathdir:\n",
    "    if(i[-8:]=='best.csv'):\n",
    "        ModelName.append(i.split('_')[0])\n",
    "        path1=path+'/'+i\n",
    "        # print(path1)\n",
    "        df=pd.read_csv(path1)\n",
    "        data=pd.DataFrame([df.iloc[2,1:].values])\n",
    "        if num==0:\n",
    "            df_new=data\n",
    "            num+=1\n",
    "        else:\n",
    "            df_new=pd.concat([df_new,data])\n",
    "df_new.columns=['mse','rmse','mae','r2','mad','mape','r2_adjusted']\n",
    "df_new.index=ModelName\n",
    "df_new.to_csv('./result/incity1.csv')#.sort_values('r2_adjusted',ascending=False)"
   ]
  },
  {
   "cell_type": "code",
   "execution_count": null,
   "metadata": {},
   "outputs": [],
   "source": []
  }
 ],
 "metadata": {
  "interpreter": {
   "hash": "a8f61be024eba58adef938c9aa1e29e02cb3dece83a5348b1a2dafd16a070453"
  },
  "kernelspec": {
   "display_name": "Python 3",
   "language": "python",
   "name": "python3"
  },
  "language_info": {
   "codemirror_mode": {
    "name": "ipython",
    "version": 3
   },
   "file_extension": ".py",
   "mimetype": "text/x-python",
   "name": "python",
   "nbconvert_exporter": "python",
   "pygments_lexer": "ipython3",
   "version": "3.8.5"
  },
  "toc": {
   "base_numbering": 1,
   "nav_menu": {},
   "number_sections": true,
   "sideBar": true,
   "skip_h1_title": false,
   "title_cell": "Table of Contents",
   "title_sidebar": "Contents",
   "toc_cell": false,
   "toc_position": {},
   "toc_section_display": true,
   "toc_window_display": false
  },
  "varInspector": {
   "cols": {
    "lenName": 16,
    "lenType": 16,
    "lenVar": 40
   },
   "kernels_config": {
    "python": {
     "delete_cmd_postfix": "",
     "delete_cmd_prefix": "del ",
     "library": "var_list.py",
     "varRefreshCmd": "print(var_dic_list())"
    },
    "r": {
     "delete_cmd_postfix": ") ",
     "delete_cmd_prefix": "rm(",
     "library": "var_list.r",
     "varRefreshCmd": "cat(var_dic_list()) "
    }
   },
   "types_to_exclude": [
    "module",
    "function",
    "builtin_function_or_method",
    "instance",
    "_Feature"
   ],
   "window_display": false
  }
 },
 "nbformat": 4,
 "nbformat_minor": 2
}