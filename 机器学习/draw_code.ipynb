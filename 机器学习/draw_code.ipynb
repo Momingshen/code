{
 "cells": [
  {
   "cell_type": "markdown",
   "metadata": {},
   "source": [
    "# 检查异常值"
   ]
  },
  {
   "cell_type": "code",
   "execution_count": 169,
   "metadata": {},
   "outputs": [
    {
     "data": {
      "image/png": "[encoded data removed]",
      "text/plain": [
       "<Figure size 432x288 with 1 Axes>"
      ]
     },
     "metadata": {
      "needs_background": "light"
     },
     "output_type": "display_data"
    }
   ],
   "source": [
    "import os \n",
    "import pandas as pd \n",
    "path_2020='./covid_19_migration_2020/datas/clean_BDQXDate/'\n",
    "for i in os.listdir(path_2020):\n",
    "    print(i)    #数据里面的省份文件夹\n",
    "    for j in os.listdir(path_2020+i):\n",
    "        print(j)    #省份里面的城市文件x.csv\n",
    "        df=pd.read_csv(path_2020+i+'./'+j,encoding='gbk')\n",
    "        break\n",
    "    break\n",
    "\n",
    "import matplotlib.pyplot as plt #导入图像库\n",
    "plt.rcParams['font.sans-serif'] = ['SimHei'] #用来正常显示中文标签\n",
    "plt.rcParams['axes.unicode_minus'] = False #用来正常显示负号\n",
    "# 绘图：年龄箱线图  \n",
    "plt.boxplot(x = df.cityin, # 指定绘图数据  \n",
    "whis=2.2,#1.5倍的四分位值  \n",
    "patch_artist=True, # 要求用自定义颜色填充盒形图，默认白色填充  \n",
    "showmeans=True, # 以点的形式显示均值  \n",
    "boxprops = {'color':'black','facecolor':'#9999ff'}, # 设置箱体属性，填充色和边框色  \n",
    "flierprops = {'marker':'o','markerfacecolor':'red','color':'black'}, # 设置异常值属性，点的形状、填充色和边框色  \n",
    "meanprops = {'marker':'D','markerfacecolor':'indianred'}, # 设置均值点的属性，点的形状、填充色  \n",
    "medianprops = {'linestyle':'--','color':'orange'}) # 设置中位数线的属性，线的类型和颜色  \n",
    "# 去除箱线图的上边框与右边框的刻度标签  \n",
    "plt.tick_params(top='off', right='off')  \n",
    "# 显示图形  \n",
    "plt.show()  \n",
    "\n",
    "# 检测到异常值置为 nan\n",
    "def box_plot_outliers(s):\n",
    "    q1, q3 = s.quantile(.25), s.quantile(.75)\n",
    "    iqr = q3 - q1\n",
    "    low, up = q1 - 2.2*iqr, q3 + 2.2*iqr\n",
    "    outlier = s.mask((s<low) | (s>up))\n",
    "    return outlier\n",
    "# 删除异常值填补数据\n",
    "df1=df.copy()\n",
    "\n",
    "df1.loc[:,['cityin','cityto','incity']]=df1.loc[:,['cityin','cityto','incity']].apply(box_plot_outliers)\n",
    "\n",
    "print(df1[['cityin','cityto','incity']].isnull().sum())\n",
    "try:\n",
    "    df1['date'] =  pd.to_datetime(df1['date'])            #转换日期格式 \n",
    "except:\n",
    "    pass\n",
    "df1=df1.set_index('date')                   #建立日期索引\n",
    "df1= df1.resample('D').interpolate('linear')         #按天线性插值填补数据\n",
    "print(df1[['cityin','cityto','incity']].isnull().sum())"
   ]
  },
  {
   "cell_type": "markdown",
   "metadata": {},
   "source": [
    "# 画图：国家"
   ]
  },
  {
   "cell_type": "code",
   "execution_count": 23,
   "metadata": {
    "ExecuteTime": {
     "end_time": "2021-07-29T07:12:32.877250Z",
     "start_time": "2021-07-29T07:12:32.801791Z"
    }
   },
   "outputs": [],
   "source": [
    "######################合并所有省份然后生成国家的csv文件############################################\n",
    "import pandas as pd \n",
    "path2020='./datas/province_2020.csv'\n",
    "path2021='./datas/province_2021.csv'\n",
    "df2020=pd.read_csv(path2020,encoding='gbk')\n",
    "df2021=pd.read_csv(path2021,encoding='gbk')\n",
    "##########################################2020.csv#########################################################\n",
    "#一共有多少个省num\n",
    "num=len(df2020.province.unique())\n",
    "###合并日期相同的数据\n",
    "def ab(df):\n",
    "    return sum(df.values)/num\n",
    "    \n",
    "df = df2020[['date','cityin','cityto','incity']].groupby('date').apply(ab)\n",
    "##########用列表提取数据\n",
    "cityin=[]\n",
    "cityto=[]\n",
    "incity=[]\n",
    "for i in df:\n",
    "    cityin.append(i[0])\n",
    "    cityto.append(i[1])\n",
    "    incity.append(i[2])\n",
    "date=df.index.to_list()\n",
    "#########导出country.csv\n",
    "df=pd.DataFrame([date,cityin,cityto,incity]).T\n",
    "df.columns=['date','cityin','cityto','incity']\n",
    "df.to_csv('./datas/country2020.csv',index=None)\n",
    "\n",
    "\n",
    "#########################################2021.csv########################################################## \n",
    "#一共有多少个省num\n",
    "num=len(df2021.province.unique())\n",
    "###合并日期相同的数据\n",
    "def ab(df):\n",
    "    return sum(df.values)/num\n",
    "   \n",
    "df = df2021[['date','cityin','cityto','incity']].groupby('date').apply(ab)\n",
    "##########用列表提取数据\n",
    "cityin=[]\n",
    "cityto=[]\n",
    "incity=[]\n",
    "for i in df:\n",
    "    cityin.append(i[0])\n",
    "    cityto.append(i[1])\n",
    "    incity.append(i[2])\n",
    "date=df.index.to_list()\n",
    "#########导出country.csv\n",
    "df=pd.DataFrame([date,cityin,cityto,incity]).T\n",
    "df.columns=['date','cityin','cityto','incity']\n",
    "df.to_csv('./datas/country2021.csv',index=None)"
   ]
  },
  {
   "cell_type": "markdown",
   "metadata": {},
   "source": [
    "## 国家活动强度折线图"
   ]
  },
  {
   "cell_type": "code",
   "execution_count": 56,
   "metadata": {
    "ExecuteTime": {
     "end_time": "2021-07-31T13:20:52.302060Z",
     "start_time": "2021-07-31T13:20:52.291522Z"
    }
   },
   "outputs": [],
   "source": [
    "import os \n",
    "import pandas as pd \n",
    "from matplotlib.pyplot import MultipleLocator #从pyplot导入MultipleLocator类，这个类用于设置刻度间隔\n",
    "if not os.path.exists('./draw_picture'):\n",
    "    os.mkdir('./draw_picture')\n",
    "if not os.path.exists('./draw_picture/country'):\n",
    "    os.mkdir('./draw_picture/country')\n",
    "import matplotlib.pyplot as plt #导入图像库\n",
    "plt.rcParams['font.sans-serif'] = ['SimHei'] #用来正常显示中文标签\n",
    "plt.rcParams['axes.unicode_minus'] = False #用来正常显示负号\n",
    "path0='./datas/country2020.csv'\n",
    "path1='./datas/country2021.csv'\n",
    "df0=pd.read_csv(path0)\n",
    "df1=pd.read_csv(path1)\n",
    "df1=df1.iloc[:len(df0),:] #把2021年和2020年保持一样的时间范围"
   ]
  },
  {
   "cell_type": "code",
   "execution_count": 57,
   "metadata": {
    "ExecuteTime": {
     "end_time": "2021-07-31T13:20:52.728342Z",
     "start_time": "2021-07-31T13:20:52.715755Z"
    }
   },
   "outputs": [],
   "source": [
    "def pic_country(df0,df1,i,n):\n",
    "    #########################活动强度折线图#############################################\n",
    "    if n=='cityin':\n",
    "        n1='Immigration'\n",
    "    elif n=='cityto':\n",
    "        n1='Emmigration'\n",
    "    else:\n",
    "        n1='Inside'\n",
    "    plt.figure(figsize=(12,8))\n",
    "    color_sequence = ['#1f77b4', '#aec7e8', '#ff7f0e', '#ffbb78', '#2ca02c',\n",
    "                    '#98df8a', '#d62728', '#ff9896', '#9467bd', '#c5b0d5',\n",
    "                    '#8c564b', '#c49c94', '#e377c2', '#f7b6d2', '#7f7f7f',\n",
    "                    '#c7c7c7', '#bcbd22', '#dbdb8d', '#17becf', '#9edae5']\n",
    "    plt.plot(df0[n],label='2020', linewidth=2)\n",
    "    plt.plot(df1[n],label='2021', linewidth=2)\n",
    "    plt.title('Country Human {} Activity Intensity'.format(n1),fontsize=20)\n",
    "    \n",
    "    # 设置刻度字体大小\n",
    "    plt.xticks(fontsize=20)\n",
    "    plt.yticks(fontsize=20)\n",
    "    plt.xlabel('Date',fontsize=20)\n",
    "    #设置x轴标签及其字号\n",
    "    plt.ylabel('Activity Intensity',fontsize=20)\n",
    "    #设置y轴标签及其字号\n",
    "\n",
    "    x_major_locator=MultipleLocator(30)\n",
    "    #把x轴的刻度间隔设置为1，并存在变量里\n",
    "    # y_major_locator=MultipleLocator(0.2)\n",
    "    # #把y轴的刻度间隔设置为10，并存在变量里\n",
    "    ax=plt.gca()\n",
    "    #ax为两条坐标轴的实例\n",
    "    ax.xaxis.set_major_locator(x_major_locator)\n",
    "    #把x轴的主刻度设置为1的倍数\n",
    "    # ax.yaxis.set_major_locator(y_major_locator)\n",
    "    # #把y轴的主刻度设置为10的倍数\n",
    "    ax.set_xticks([0,30,60,90,120])\n",
    "    ax.set_xticklabels(['1-Jan','1-Feb','1-Mar','1-Apr','1-May'])\n",
    "    \n",
    "    maxlen=df0[n].describe()['max'] if df0[n].describe()['max']>df1[n].describe()['max'] else df1[n].describe()['max']\n",
    "    minlen=df0[n].describe()['min'] if df0[n].describe()['min']<df1[n].describe()['min'] else df1[n].describe()['min']\n",
    "\n",
    "    plt.plot([22, 22], [0, maxlen], c=color_sequence[14], linestyle='--',label='Wuhan Lockdown') # 2021年1月22日\n",
    "    \n",
    "    plt.plot([47, 47], [0, maxlen], c=color_sequence[12], linestyle='--',label='After the Spring Festival') # 2021年2月17日\n",
    "    \n",
    "    plt.plot([56, 56], [0, maxlen], c=color_sequence[11], linestyle='--',label='Lantern Festival') # 2021年2月26日\n",
    "\n",
    "    plt.plot([92, 92], [0, maxlen], c=color_sequence[10], linestyle='--',label='Ching Ming Festival') # 2021年4月3日\n",
    "    \n",
    "    plt.ylim(0,maxlen)\n",
    "    plt.grid(axis='both',linestyle='dotted',color='b',alpha=.3) #, \n",
    "    plt.gca().spines[\"top\"].set_alpha(0.0)    \n",
    "    plt.gca().spines[\"right\"].set_alpha(0.0) \n",
    "    plt.legend(fontsize=12,loc='best')\n",
    "    plt.savefig('./draw_picture/country/'+i+'_'+n+'_line.jpg')\n",
    "    #plt.show()\n",
    "    plt.close()"
   ]
  },
  {
   "cell_type": "code",
   "execution_count": 58,
   "metadata": {
    "ExecuteTime": {
     "end_time": "2021-07-31T13:20:58.109895Z",
     "start_time": "2021-07-31T13:20:53.488540Z"
    }
   },
   "outputs": [
    {
     "name": "stdout",
     "output_type": "stream",
     "text": [
      "----输出完毕所有国家的活动强度折线图----\n"
     ]
    }
   ],
   "source": [
    "for n in ['cityin','cityto','incity']:\n",
    "    pic_country(df0,df1,'country',n)\n",
    "    \n",
    "print('----输出完毕所有国家的活动强度折线图----')"
   ]
  },
  {
   "cell_type": "markdown",
   "metadata": {},
   "source": [
    "# 画图：区域"
   ]
  },
  {
   "cell_type": "markdown",
   "metadata": {},
   "source": [
    "## 区域活动强度折线图"
   ]
  },
  {
   "cell_type": "code",
   "execution_count": 59,
   "metadata": {
    "ExecuteTime": {
     "end_time": "2021-07-31T13:20:58.156747Z",
     "start_time": "2021-07-31T13:20:58.144196Z"
    }
   },
   "outputs": [],
   "source": [
    "import pandas as pd \n",
    "import os \n",
    "import matplotlib.pyplot as plt #导入图像库\n",
    "from matplotlib.pyplot import MultipleLocator #从pyplot导入MultipleLocator类，这个类用于设置刻度间隔\n",
    "if not os.path.exists('./draw_picture/area'):\n",
    "    os.mkdir('./draw_picture/area')\n",
    "path2020='./datas/area_2020.csv'\n",
    "path2021='./datas/area_2021.csv'\n",
    "df2020=pd.read_csv(path2020,encoding='gbk')\n",
    "df2021=pd.read_csv(path2021,encoding='gbk')"
   ]
  },
  {
   "cell_type": "code",
   "execution_count": 60,
   "metadata": {
    "ExecuteTime": {
     "end_time": "2021-07-31T13:20:58.203914Z",
     "start_time": "2021-07-31T13:20:58.192913Z"
    }
   },
   "outputs": [],
   "source": [
    "def pic_area(df0,df1,i,n):\n",
    "    #########################活动强度折线图#############################################\n",
    "    if n=='cityin':\n",
    "        n1='Immigration'\n",
    "    elif n=='cityto':\n",
    "        n1='Emmigration'\n",
    "    else:\n",
    "        n1='Inside'\n",
    "    plt.figure(figsize=(12,8))\n",
    "    color_sequence = ['#1f77b4', '#aec7e8', '#ff7f0e', '#ffbb78', '#2ca02c',\n",
    "                    '#98df8a', '#d62728', '#ff9896', '#9467bd', '#c5b0d5',\n",
    "                    '#8c564b', '#c49c94', '#e377c2', '#f7b6d2', '#7f7f7f',\n",
    "                    '#c7c7c7', '#bcbd22', '#dbdb8d', '#17becf', '#9edae5']\n",
    "    plt.plot(df0[n],label='2020', linewidth=2)\n",
    "    plt.plot(df1[n],label='2021', linewidth=2)\n",
    "    plt.title('Area Human {} Activity Intensity'.format(n1),fontsize=20)\n",
    "    \n",
    "    # 设置刻度字体大小\n",
    "    plt.xticks(fontsize=20)\n",
    "    plt.yticks(fontsize=20)\n",
    "    plt.xlabel('Date',fontsize=20)\n",
    "    #设置x轴标签及其字号\n",
    "    plt.ylabel('Activity Intensity',fontsize=20)\n",
    "    #设置y轴标签及其字号\n",
    "\n",
    "    x_major_locator=MultipleLocator(30)\n",
    "    #把x轴的刻度间隔设置为1，并存在变量里\n",
    "    # y_major_locator=MultipleLocator(0.2)\n",
    "    # #把y轴的刻度间隔设置为10，并存在变量里\n",
    "    ax=plt.gca()\n",
    "    #ax为两条坐标轴的实例\n",
    "    ax.xaxis.set_major_locator(x_major_locator)\n",
    "    #把x轴的主刻度设置为1的倍数\n",
    "    # ax.yaxis.set_major_locator(y_major_locator)\n",
    "    # #把y轴的主刻度设置为10的倍数\n",
    "    ax.set_xticks([0,30,60,90,120])\n",
    "    ax.set_xticklabels(['1-Jan','1-Feb','1-Mar','1-Apr','1-May'])\n",
    "    \n",
    "    maxlen=df0[n].describe()['max'] if df0[n].describe()['max']>df1[n].describe()['max'] else df1[n].describe()['max']\n",
    "    minlen=df0[n].describe()['min'] if df0[n].describe()['min']<df1[n].describe()['min'] else df1[n].describe()['min']\n",
    "\n",
    "    plt.plot([22, 22], [0, maxlen], c=color_sequence[14], linestyle='--',label='Wuhan Lockdown') # 2021年1月22日\n",
    "    \n",
    "    plt.plot([47, 47], [0, maxlen], c=color_sequence[12], linestyle='--',label='After the Spring Festival') # 2021年2月17日\n",
    "    \n",
    "    plt.plot([56, 56], [0, maxlen], c=color_sequence[11], linestyle='--',label='Lantern Festival') # 2021年2月26日\n",
    "\n",
    "    plt.plot([92, 92], [0, maxlen], c=color_sequence[10], linestyle='--',label='Ching Ming Festival') # 2021年4月3日\n",
    "    \n",
    "    plt.ylim(0,maxlen)\n",
    "    plt.grid(axis='both',linestyle='dotted',color='b',alpha=.3) #, \n",
    "    plt.gca().spines[\"top\"].set_alpha(0.0)    \n",
    "    plt.gca().spines[\"right\"].set_alpha(0.0) \n",
    "    plt.legend(fontsize=12,loc='best')\n",
    "    plt.savefig('./draw_picture/area/'+i+'_'+n+'_line.jpg')\n",
    "    #plt.show()\n",
    "    plt.close()"
   ]
  },
  {
   "cell_type": "code",
   "execution_count": 61,
   "metadata": {
    "ExecuteTime": {
     "end_time": "2021-07-31T13:21:00.099520Z",
     "start_time": "2021-07-31T13:20:58.238577Z"
    }
   },
   "outputs": [
    {
     "name": "stdout",
     "output_type": "stream",
     "text": [
      "----输出完毕所有地区的活动强度折线图----\n"
     ]
    }
   ],
   "source": [
    "for i in df2020.area.unique():\n",
    "    df0=df2020[df2020.area==i]\n",
    "    df1=df2021[df2021.area==i]\n",
    "    df1=df1.iloc[:len(df0),:] #把2021年和2020年保持一样的时间范围\n",
    "    #####重置索引\n",
    "    df0=df0.reset_index(drop=True)\n",
    "    df1=df1.reset_index(drop=True)\n",
    "    #######\n",
    "    pic_area(df0,df1,i,'cityin')\n",
    "    pic_area(df0,df1,i,'cityto')\n",
    "    pic_area(df0,df1,i,'incity')\n",
    "print('----输出完毕所有地区的活动强度折线图----')"
   ]
  },
  {
   "cell_type": "markdown",
   "metadata": {},
   "source": [
    "# 画图：省份"
   ]
  },
  {
   "cell_type": "markdown",
   "metadata": {},
   "source": [
    "## 省份活动强度折线图"
   ]
  },
  {
   "cell_type": "code",
   "execution_count": 62,
   "metadata": {
    "ExecuteTime": {
     "end_time": "2021-07-31T13:21:00.709766Z",
     "start_time": "2021-07-31T13:21:00.684809Z"
    }
   },
   "outputs": [],
   "source": [
    "import pandas as pd \n",
    "import os \n",
    "import matplotlib.pyplot as plt #导入图像库\n",
    "from matplotlib.pyplot import MultipleLocator #从pyplot导入MultipleLocator类，这个类用于设置刻度间隔\n",
    "if not os.path.exists('./draw_picture/province'):\n",
    "    os.mkdir('./draw_picture/province')\n",
    "path2020='./datas/province_2020.csv'\n",
    "path2021='./datas/province_2021.csv'\n",
    "df2020=pd.read_csv(path2020,encoding='gbk')\n",
    "df2021=pd.read_csv(path2021,encoding='gbk')"
   ]
  },
  {
   "cell_type": "code",
   "execution_count": 63,
   "metadata": {
    "ExecuteTime": {
     "end_time": "2021-07-31T13:21:12.330088Z",
     "start_time": "2021-07-31T13:21:12.305548Z"
    }
   },
   "outputs": [],
   "source": [
    "def pic_province(df0,df1,i,n):\n",
    "    #########################活动强度折线图#############################################\n",
    "    if n=='cityin':\n",
    "        n1='Immigration'\n",
    "    elif n=='cityto':\n",
    "        n1='Emmigration'\n",
    "    else:\n",
    "        n1='Inside'\n",
    "    plt.figure(figsize=(12,8))\n",
    "    color_sequence = ['#1f77b4', '#aec7e8', '#ff7f0e', '#ffbb78', '#2ca02c',\n",
    "                    '#98df8a', '#d62728', '#ff9896', '#9467bd', '#c5b0d5',\n",
    "                    '#8c564b', '#c49c94', '#e377c2', '#f7b6d2', '#7f7f7f',\n",
    "                    '#c7c7c7', '#bcbd22', '#dbdb8d', '#17becf', '#9edae5']\n",
    "    plt.plot(df0[n],label='2020', linewidth=2)\n",
    "    plt.plot(df1[n],label='2021', linewidth=2)\n",
    "    plt.title('Province Human {} Activity Intensity'.format(n1),fontsize=20)\n",
    "    \n",
    "    # 设置刻度字体大小\n",
    "    plt.xticks(fontsize=20)\n",
    "    plt.yticks(fontsize=20)\n",
    "    plt.xlabel('Date',fontsize=20)\n",
    "    #设置x轴标签及其字号\n",
    "    plt.ylabel('Activity Intensity',fontsize=20)\n",
    "    #设置y轴标签及其字号\n",
    "\n",
    "    x_major_locator=MultipleLocator(30)\n",
    "    #把x轴的刻度间隔设置为1，并存在变量里\n",
    "    # y_major_locator=MultipleLocator(0.2)\n",
    "    # #把y轴的刻度间隔设置为10，并存在变量里\n",
    "    ax=plt.gca()\n",
    "    #ax为两条坐标轴的实例\n",
    "    ax.xaxis.set_major_locator(x_major_locator)\n",
    "    #把x轴的主刻度设置为1的倍数\n",
    "    # ax.yaxis.set_major_locator(y_major_locator)\n",
    "    # #把y轴的主刻度设置为10的倍数\n",
    "    ax.set_xticks([0,30,60,90,120])\n",
    "    ax.set_xticklabels(['1-Jan','1-Feb','1-Mar','1-Apr','1-May'])\n",
    "    \n",
    "    maxlen=df0[n].describe()['max'] if df0[n].describe()['max']>df1[n].describe()['max'] else df1[n].describe()['max']\n",
    "    minlen=df0[n].describe()['min'] if df0[n].describe()['min']<df1[n].describe()['min'] else df1[n].describe()['min']\n",
    "\n",
    "    plt.plot([22, 22], [0, maxlen], c=color_sequence[14], linestyle='--',label='Wuhan Lockdown') # 2021年1月22日\n",
    "    \n",
    "    plt.plot([47, 47], [0, maxlen], c=color_sequence[12], linestyle='--',label='After the Spring Festival') # 2021年2月17日\n",
    "    \n",
    "    plt.plot([56, 56], [0, maxlen], c=color_sequence[11], linestyle='--',label='Lantern Festival') # 2021年2月26日\n",
    "\n",
    "    plt.plot([92, 92], [0, maxlen], c=color_sequence[10], linestyle='--',label='Ching Ming Festival') # 2021年4月3日\n",
    "    try:\n",
    "        plt.ylim(0,maxlen)\n",
    "    except:\n",
    "        print(maxlen)\n",
    "    plt.grid(axis='both',linestyle='dotted',color='b',alpha=.3) #, \n",
    "    plt.gca().spines[\"top\"].set_alpha(0.0)    \n",
    "    plt.gca().spines[\"right\"].set_alpha(0.0) \n",
    "    plt.legend(fontsize=12,loc='best')\n",
    "    plt.savefig('./draw_picture/province/'+i+'_'+n+'_line.jpg')\n",
    "    #plt.show()\n",
    "    plt.close()"
   ]
  },
  {
   "cell_type": "code",
   "execution_count": 64,
   "metadata": {
    "ExecuteTime": {
     "end_time": "2021-07-31T13:21:30.619555Z",
     "start_time": "2021-07-31T13:21:12.698224Z"
    }
   },
   "outputs": [
    {
     "name": "stdout",
     "output_type": "stream",
     "text": [
      "nan\n",
      "nan\n",
      "nan\n",
      "----输出完毕所有省份的活动强度折线图----\n"
     ]
    }
   ],
   "source": [
    "for i in df2020.province.unique():\n",
    "    df0=df2020[df2020.province==i]\n",
    "    df1=df2021[df2021.province==i]\n",
    "    df1=df1.iloc[:len(df0),:] #把2021年和2020年保持一样的时间范围\n",
    "    #####重置索引\n",
    "    df0=df0.reset_index(drop=True)\n",
    "    df1=df1.reset_index(drop=True)\n",
    "    #######\n",
    "    pic_province(df0,df1,i,'cityin')\n",
    "    pic_province(df0,df1,i,'cityto')\n",
    "    pic_province(df0,df1,i,'incity')\n",
    "print('----输出完毕所有省份的活动强度折线图----')"
   ]
  },
  {
   "cell_type": "markdown",
   "metadata": {},
   "source": [
    "## 以武汉市为例的省份迁徙活动迁徙强度"
   ]
  },
  {
   "cell_type": "code",
   "execution_count": 81,
   "metadata": {
    "ExecuteTime": {
     "end_time": "2021-07-30T08:55:54.148294Z",
     "start_time": "2021-07-30T08:55:54.132278Z"
    },
    "collapsed": true
   },
   "outputs": [
    {
     "data": {
      "text/plain": [
       "{'上海': ['上海'],\n",
       " '云南': ['临沧',\n",
       "  '丽江',\n",
       "  '保山',\n",
       "  '大理州',\n",
       "  '德宏州',\n",
       "  '怒江州',\n",
       "  '文山',\n",
       "  '昆明',\n",
       "  '昭通',\n",
       "  '普洱',\n",
       "  '曲靖',\n",
       "  '楚雄州',\n",
       "  '玉溪',\n",
       "  '红河州',\n",
       "  '西双版纳傣族自治州',\n",
       "  '迪庆州'],\n",
       " '内蒙古': ['乌兰察布',\n",
       "  '乌海',\n",
       "  '兴安盟',\n",
       "  '包头',\n",
       "  '呼伦贝尔',\n",
       "  '呼和浩特',\n",
       "  '巴彦淖尔',\n",
       "  '赤峰',\n",
       "  '通辽',\n",
       "  '鄂尔多斯',\n",
       "  '锡林郭勒盟',\n",
       "  '阿拉善盟'],\n",
       " '北京': ['北京'],\n",
       " '吉林': ['吉林市', '四平', '延边', '松原', '白城', '白山', '辽源', '通化', '长春'],\n",
       " '四川': ['乐山',\n",
       "  '内江',\n",
       "  '凉山州',\n",
       "  '南充',\n",
       "  '宜宾',\n",
       "  '巴中',\n",
       "  '广元',\n",
       "  '广安',\n",
       "  '德阳',\n",
       "  '成都',\n",
       "  '攀枝花',\n",
       "  '泸州',\n",
       "  '甘孜州',\n",
       "  '眉山',\n",
       "  '绵阳',\n",
       "  '自贡',\n",
       "  '资阳',\n",
       "  '达州',\n",
       "  '遂宁',\n",
       "  '阿坝州',\n",
       "  '雅安'],\n",
       " '宁夏': ['中卫', '吴忠', '固原', '石嘴山', '银川'],\n",
       " '安徽': ['亳州',\n",
       "  '六安',\n",
       "  '合肥',\n",
       "  '安庆',\n",
       "  '宣城',\n",
       "  '宿州',\n",
       "  '池州',\n",
       "  '淮北',\n",
       "  '淮南',\n",
       "  '滁州',\n",
       "  '芜湖',\n",
       "  '蚌埠',\n",
       "  '铜陵',\n",
       "  '阜阳',\n",
       "  '马鞍山',\n",
       "  '黄山'],\n",
       " '山东': ['东营',\n",
       "  '临沂',\n",
       "  '威海',\n",
       "  '德州',\n",
       "  '日照',\n",
       "  '枣庄',\n",
       "  '泰安',\n",
       "  '济南',\n",
       "  '济宁',\n",
       "  '淄博',\n",
       "  '滨州',\n",
       "  '潍坊',\n",
       "  '烟台',\n",
       "  '聊城',\n",
       "  '菏泽',\n",
       "  '青岛'],\n",
       " '山西': ['临汾', '吕梁', '大同', '太原', '忻州', '晋中', '晋城', '朔州', '运城', '长治', '阳泉'],\n",
       " '广东': ['东莞',\n",
       "  '中山',\n",
       "  '云浮',\n",
       "  '佛山',\n",
       "  '广州',\n",
       "  '惠州',\n",
       "  '揭阳',\n",
       "  '梅州',\n",
       "  '汕头',\n",
       "  '汕尾',\n",
       "  '江门',\n",
       "  '河源',\n",
       "  '深圳',\n",
       "  '清远',\n",
       "  '湛江',\n",
       "  '潮州',\n",
       "  '珠海',\n",
       "  '肇庆',\n",
       "  '茂名',\n",
       "  '阳江',\n",
       "  '韶关'],\n",
       " '广西': ['北海',\n",
       "  '南宁',\n",
       "  '崇左',\n",
       "  '来宾',\n",
       "  '柳州',\n",
       "  '桂林',\n",
       "  '梧州',\n",
       "  '河池',\n",
       "  '玉林',\n",
       "  '百色',\n",
       "  '贵港',\n",
       "  '贺州',\n",
       "  '钦州',\n",
       "  '防城港'],\n",
       " '新疆': ['乌鲁木齐',\n",
       "  '五家渠',\n",
       "  '伊犁州',\n",
       "  '克孜勒苏州',\n",
       "  '克拉玛依',\n",
       "  '北屯',\n",
       "  '博尔塔拉州',\n",
       "  '双河',\n",
       "  '可克达拉',\n",
       "  '吐鲁番',\n",
       "  '和田地区',\n",
       "  '哈密',\n",
       "  '喀什地区',\n",
       "  '图木舒克',\n",
       "  '塔城地区',\n",
       "  '巴音郭楞蒙古自治州',\n",
       "  '昆玉',\n",
       "  '昌吉州',\n",
       "  '石河子',\n",
       "  '铁门关',\n",
       "  '阿克苏地区',\n",
       "  '阿勒泰地区',\n",
       "  '阿拉尔'],\n",
       " '江苏': ['南京',\n",
       "  '南通',\n",
       "  '宿迁',\n",
       "  '常州',\n",
       "  '徐州',\n",
       "  '扬州',\n",
       "  '无锡',\n",
       "  '泰州',\n",
       "  '淮安',\n",
       "  '盐城',\n",
       "  '苏州',\n",
       "  '连云港',\n",
       "  '镇江'],\n",
       " '江西': ['上饶', '九江', '南昌', '吉安', '宜春', '抚州', '新余', '景德镇', '萍乡', '赣州', '鹰潭'],\n",
       " '河北': ['保定', '唐山', '廊坊', '张家口', '承德', '沧州', '石家庄', '秦皇岛', '衡水', '邢台', '邯郸'],\n",
       " '河南': ['三门峡',\n",
       "  '信阳',\n",
       "  '南阳',\n",
       "  '周口',\n",
       "  '商丘',\n",
       "  '安阳',\n",
       "  '平顶山',\n",
       "  '开封',\n",
       "  '新乡',\n",
       "  '洛阳',\n",
       "  '济源',\n",
       "  '漯河',\n",
       "  '濮阳',\n",
       "  '焦作',\n",
       "  '许昌',\n",
       "  '郑州',\n",
       "  '驻马店',\n",
       "  '鹤壁'],\n",
       " '浙江': ['丽水', '台州', '嘉兴', '宁波', '杭州', '温州', '湖州', '绍兴', '舟山', '衢州', '金华'],\n",
       " '海南': ['万宁',\n",
       "  '三亚',\n",
       "  '东方',\n",
       "  '临高',\n",
       "  '乐东黎族自治县',\n",
       "  '五指山',\n",
       "  '保亭黎族苗族自治县',\n",
       "  '儋州',\n",
       "  '定安',\n",
       "  '屯昌',\n",
       "  '文昌',\n",
       "  '昌江黎族自治县',\n",
       "  '海口',\n",
       "  '澄迈',\n",
       "  '琼中黎族苗族自治县',\n",
       "  '琼海',\n",
       "  '白沙县',\n",
       "  '陵水黎族自治县'],\n",
       " '湖北': ['仙桃',\n",
       "  '十堰',\n",
       "  '咸宁',\n",
       "  '天门',\n",
       "  '孝感',\n",
       "  '宜昌',\n",
       "  '恩施',\n",
       "  '武汉',\n",
       "  '潜江',\n",
       "  '神农架地区',\n",
       "  '荆州',\n",
       "  '荆门',\n",
       "  '襄阳',\n",
       "  '鄂州',\n",
       "  '随州',\n",
       "  '黄冈',\n",
       "  '黄石'],\n",
       " '湖南': ['娄底',\n",
       "  '岳阳',\n",
       "  '常德',\n",
       "  '张家界',\n",
       "  '怀化',\n",
       "  '株洲',\n",
       "  '永州',\n",
       "  '湘潭',\n",
       "  '湘西州',\n",
       "  '益阳',\n",
       "  '衡阳',\n",
       "  '邵阳',\n",
       "  '郴州',\n",
       "  '长沙'],\n",
       " '澳门': ['澳门'],\n",
       " '甘肃': ['临夏回族自治州',\n",
       "  '兰州',\n",
       "  '嘉峪关',\n",
       "  '天水',\n",
       "  '定西',\n",
       "  '平凉',\n",
       "  '庆阳',\n",
       "  '张掖',\n",
       "  '武威',\n",
       "  '甘南藏族自治州',\n",
       "  '白银',\n",
       "  '酒泉',\n",
       "  '金昌',\n",
       "  '陇南'],\n",
       " '福建': ['三明', '南平', '厦门', '宁德', '泉州', '漳州', '福州', '莆田', '龙岩'],\n",
       " '西藏': ['山南', '拉萨', '日喀则', '昌都', '林芝', '那曲', '阿里地区'],\n",
       " '贵州': ['六盘水',\n",
       "  '安顺',\n",
       "  '毕节',\n",
       "  '贵阳',\n",
       "  '遵义',\n",
       "  '铜仁',\n",
       "  '黔东南苗族侗族自治州',\n",
       "  '黔南布依族苗族自治州',\n",
       "  '黔西南布依族苗族自治州'],\n",
       " '辽宁': ['丹东',\n",
       "  '大连',\n",
       "  '抚顺',\n",
       "  '朝阳',\n",
       "  '本溪',\n",
       "  '沈阳',\n",
       "  '盘锦',\n",
       "  '营口',\n",
       "  '葫芦岛',\n",
       "  '辽阳',\n",
       "  '铁岭',\n",
       "  '锦州',\n",
       "  '阜新',\n",
       "  '鞍山'],\n",
       " '重庆': ['重庆'],\n",
       " '陕西': ['咸阳', '商洛', '安康', '宝鸡', '延安', '榆林', '汉中', '渭南', '西安', '铜川'],\n",
       " '青海': ['果洛州', '海东地区', '海北州', '海南州', '海西州', '玉树州', '西宁', '黄南州'],\n",
       " '香港': ['天津', '香港'],\n",
       " '黑龙江': ['七台河',\n",
       "  '伊春',\n",
       "  '佳木斯',\n",
       "  '双鸭山',\n",
       "  '哈尔滨',\n",
       "  '大兴安岭地区',\n",
       "  '大庆',\n",
       "  '牡丹江',\n",
       "  '绥化',\n",
       "  '鸡西',\n",
       "  '鹤岗',\n",
       "  '黑河',\n",
       "  '齐齐哈尔']}"
      ]
     },
     "execution_count": 81,
     "metadata": {},
     "output_type": "execute_result"
    }
   ],
   "source": [
    "#########################################2020###################################\n",
    "###########获取省份包含城市的字典\n",
    "import os \n",
    "import pandas as  pd \n",
    "path2020='./covid_19_migration_2020/datas/clean_BDQXDate/'\n",
    "dist={}\n",
    "for i in os.listdir(path2020):\n",
    "    path2020_pro=path2020+i \n",
    "    lis=[]\n",
    "    for j in  os.listdir(path2020_pro):\n",
    "        j=j[:-4]    #去掉.csv\n",
    "        lis.append(j)\n",
    "    dist[i]=lis\n",
    "#dist\n",
    "\n",
    "#通过字典的value获取字典的key\n",
    "def get_key(d, value):\n",
    "    return [k for k,v in d.items() if value in v]\n",
    "\n",
    "\n",
    "###########获取武汉市的数据\n",
    "import os \n",
    "import pandas as  pd \n",
    "path2020='./covid_19_migration_2020/datas/clean_BDQXDate/'\n",
    "for i in os.listdir(path2020):\n",
    "    if i !='湖北':\n",
    "        continue\n",
    "    path2020_province=path2020+i \n",
    "    for j in  os.listdir(path2020_province):\n",
    "        if j !='武汉.csv':\n",
    "            continue\n",
    "        path2020_city=path2020_province+'./'+j \n",
    "        df2020=pd.read_csv(path2020_city,encoding='gbk')\n",
    "#df2020        \n",
    "\n",
    "df2020_new=df2020[['date','incity']]\n",
    "for i in df2020.columns:\n",
    "    j=i\n",
    "    if i in ['date','incity','cityin','cityto']:\n",
    "        continue\n",
    "    #去掉武汉市那列的数据\n",
    "    if i[:2]=='武汉':\n",
    "        continue\n",
    "    #修正一些匹配不上当饿地区\n",
    "    if i[:-4]=='神农架林区':\n",
    "        j='神农架地区'+i[-4:]\n",
    "    if i[:-4]=='海东市':\n",
    "        j='海东地区'+i[-4:]\n",
    "    if i[:-4]=='博尔塔拉蒙古自治州':\n",
    "        j='博尔塔拉州'+i[-4:]\n",
    "#     if i[:-4]=='楚雄彝族自治州':\n",
    "#         j='楚雄州'+i[-4:]\n",
    "#     if i[:-4]=='湘西土家族苗族自治州':\n",
    "#         j='湘西州'+i[-4:]\n",
    "    province=get_key(dist,j[:2])    #通过字典的value获取字典的key\n",
    "    if province ==[]:\n",
    "        province=get_key(dist,j[:3]) \n",
    "        if province ==[]:\n",
    "            province=get_key(dist,j[:4]) \n",
    "            if province ==[]:\n",
    "                province=get_key(dist,j[:5]) \n",
    "                if province ==[]:\n",
    "                    province=get_key(dist,j[:6]) \n",
    "                    if province ==[]:\n",
    "                        province=get_key(dist,j[:7]) \n",
    "                        if province ==[]:\n",
    "                            province=get_key(dist,j[:8]) \n",
    "                            if province ==[]:\n",
    "                                province=get_key(dist,j[:9]) \n",
    "                                if province ==[]:\n",
    "                                    province=get_key(dist,j[:10]) \n",
    "                                    if province ==[]:\n",
    "                                        province=get_key(dist,j[:11]) \n",
    "                                        if province ==[]:\n",
    "                                            province=get_key(dist,j[:2]+j[-5:-4]) \n",
    "    if province !=[]:\n",
    "        province=i[-4:-2]+province[0]\n",
    "        try:\n",
    "            df2020_new[province]+=df2020[i]\n",
    "        except:\n",
    "            df2020_new[province]=df2020[i].tolist()\n",
    "    else:\n",
    "        print(i)\n",
    "df2020_new=df2020_new.drop('incity',axis=1)\n",
    "df2020_new.to_csv('./datas/wuhan2020.csv',encoding='gbk',index=0)"
   ]
  },
  {
   "cell_type": "code",
   "execution_count": 116,
   "metadata": {
    "ExecuteTime": {
     "end_time": "2021-07-30T10:19:49.204268Z",
     "start_time": "2021-07-30T10:19:49.040132Z"
    }
   },
   "outputs": [
    {
     "name": "stdout",
     "output_type": "stream",
     "text": [
      "date.1\n"
     ]
    },
    {
     "name": "stderr",
     "output_type": "stream",
     "text": [
      "<ipython-input-116-4a619a2166c1>:81: SettingWithCopyWarning: \n",
      "A value is trying to be set on a copy of a slice from a DataFrame.\n",
      "Try using .loc[row_indexer,col_indexer] = value instead\n",
      "\n",
      "See the caveats in the documentation: https://pandas.pydata.org/pandas-docs/stable/user_guide/indexing.html#returning-a-view-versus-a-copy\n",
      "  df2021_new[province]=df2021[i].tolist()\n",
      "<ipython-input-116-4a619a2166c1>:79: SettingWithCopyWarning: \n",
      "A value is trying to be set on a copy of a slice from a DataFrame.\n",
      "Try using .loc[row_indexer,col_indexer] = value instead\n",
      "\n",
      "See the caveats in the documentation: https://pandas.pydata.org/pandas-docs/stable/user_guide/indexing.html#returning-a-view-versus-a-copy\n",
      "  df2021_new[province]+=df2021[i]\n"
     ]
    }
   ],
   "source": [
    "#########################################2021###################################\n",
    "###########获取省份包含城市的字典\n",
    "import os \n",
    "import pandas as  pd \n",
    "path2021='./covid_19_migration_2021/datas/clean_BDQXDate/'\n",
    "dist={}\n",
    "for i in os.listdir(path2021):\n",
    "    path2021_pro=path2021+i \n",
    "    lis=[]\n",
    "    for j in  os.listdir(path2021_pro):\n",
    "        j=j[:-4]    #去掉.csv\n",
    "        lis.append(j)\n",
    "    dist[i]=lis\n",
    "#dist\n",
    "\n",
    "#通过字典的value获取字典的key\n",
    "def get_key(d, value):\n",
    "    return [k for k,v in d.items() if value in v]\n",
    "\n",
    "\n",
    "###########获取武汉市的数据\n",
    "import os \n",
    "import pandas as  pd \n",
    "path2021='./covid_19_migration_2021/datas/clean_BDQXDate/'\n",
    "for i in os.listdir(path2021):\n",
    "    if i !='湖北':\n",
    "        continue\n",
    "    path2021_province=path2021+i \n",
    "    for j in  os.listdir(path2021_province):\n",
    "        if j !='武汉.csv':\n",
    "            continue\n",
    "        path2021_city=path2021_province+'./'+j \n",
    "        df2021=pd.read_csv(path2021_city,encoding='gbk')\n",
    "#df2021        \n",
    "\n",
    "df2021_new=df2021[['date','incity']]\n",
    "for i in df2021.columns:\n",
    "    j=i\n",
    "    if i in ['date','incity','cityin','cityto']:\n",
    "        continue\n",
    "    #去掉武汉市那列的数据\n",
    "    if i[:2]=='武汉':\n",
    "        continue\n",
    "    #修正一些匹配不上的地区\n",
    "    if i[:-4]=='神农架林区':\n",
    "        j='神农架地区'+i[-4:]\n",
    "    if i[:-4]=='海东市':\n",
    "        j='海东地区'+i[-4:]\n",
    "    if i[:-4]=='博尔塔拉蒙古自治州':\n",
    "        j='博尔塔拉州'+i[-4:]\n",
    "    province=get_key(dist,j[:2])    #通过字典的value获取字典的key\n",
    "    if province ==[]:\n",
    "        province=get_key(dist,j[:3]) \n",
    "        if province ==[]:\n",
    "            province=get_key(dist,j[:4]) \n",
    "            if province ==[]:\n",
    "                province=get_key(dist,j[:5]) \n",
    "                if province ==[]:\n",
    "                    province=get_key(dist,j[:6]) \n",
    "                    if province ==[]:\n",
    "                        province=get_key(dist,j[:7]) \n",
    "                        if province ==[]:\n",
    "                            province=get_key(dist,j[:8]) \n",
    "                            if province ==[]:\n",
    "                                province=get_key(dist,j[:9]) \n",
    "                                if province ==[]:\n",
    "                                    province=get_key(dist,j[:10]) \n",
    "                                    if province ==[]:\n",
    "                                        province=get_key(dist,j[:11]) \n",
    "                                        if province ==[]:\n",
    "                                            province=get_key(dist,j[:2]+j[-5:-4]) \n",
    "    if province !=[]:\n",
    "        province=i[-4:-2]+province[0]\n",
    "        try:\n",
    "            df2021_new[province]+=df2021[i]\n",
    "        except:\n",
    "            df2021_new[province]=df2021[i].tolist()\n",
    "    else:\n",
    "        print(i)\n",
    "df2021_new=df2021_new.drop('incity',axis=1)\n",
    "df2021_new.to_csv('./datas/wuhan2021.csv',encoding='gbk',index=0)"
   ]
  },
  {
   "cell_type": "code",
   "execution_count": 190,
   "metadata": {
    "ExecuteTime": {
     "end_time": "2021-07-30T16:52:58.677286Z",
     "start_time": "2021-07-30T16:52:58.657754Z"
    }
   },
   "outputs": [],
   "source": [
    "#######################################画柱状图##################################################\n",
    "import pandas as pd \n",
    "df2020=pd.read_csv('./datas/wuhan2020.csv',encoding='gbk')\n",
    "#把迁入的省份放入一个列表中，把迁出省份放入一个列表中\n",
    "inlist=[]\n",
    "tolist=[]\n",
    "namelist=[]\n",
    "for i in df2020.columns:\n",
    "    if i[:2]=='迁入':\n",
    "        inlist.append(i)\n",
    "        namelist.append(i[2:])\n",
    "for i in inlist:\n",
    "    tolist.append('迁出'+i[2:])\n",
    "        \n",
    "df2021=pd.read_csv('./datas/wuhan2021.csv',encoding='gbk')\n",
    "#把迁入的省份放入一个列表中，把迁出省份放入一个列表中\n",
    "inlist1=[]\n",
    "tolist1=[]\n",
    "namelist1=[]\n",
    "\n",
    "for i in df2021.columns:\n",
    "    if i[:2]=='迁入':\n",
    "        inlist1.append(i)\n",
    "        namelist1.append(i[2:])\n",
    "for i in inlist1:\n",
    "    tolist1.append('迁出'+i[2:])\n"
   ]
  },
  {
   "cell_type": "code",
   "execution_count": 197,
   "metadata": {
    "ExecuteTime": {
     "end_time": "2021-07-30T17:00:26.481596Z",
     "start_time": "2021-07-30T17:00:26.029342Z"
    },
    "collapsed": true
   },
   "outputs": [
    {
     "data": {
      "image/png": "[encoded data removed]",
      "text/plain": [
       "<Figure size 1440x576 with 1 Axes>"
      ]
     },
     "metadata": {
      "needs_background": "light"
     },
     "output_type": "display_data"
    }
   ],
   "source": [
    "#2020年的春节是1月25日\n",
    "import matplotlib.pyplot as plt\n",
    "import matplotlib\n",
    "# 设置中文字体和负号正常显示\n",
    "matplotlib.rcParams['font.sans-serif'] = ['SimHei']\n",
    "matplotlib.rcParams['axes.unicode_minus'] = False\n",
    "plt.figure(figsize=(20,8))\n",
    "label_list = namelist[:10]    # 横坐标刻度显示值\n",
    "num_list1 = df2020[df2020['date']=='2020-01-25'][inlist].values.tolist()[0][:10]      # 纵坐标值1\n",
    "num_list2 = df2020[df2020['date']=='2020-01-25'][tolist].values.tolist()[0][:10]      # 纵坐标值2\n",
    "x = list(range(len(num_list1)))\n",
    "\"\"\"\n",
    "绘制条形图\n",
    "left:长条形中点横坐标\n",
    "height:长条形高度\n",
    "width:长条形宽度，默认值0.8\n",
    "label:为后面设置legend准备\n",
    "\"\"\"\n",
    "rects1 = plt.bar(x=x, height=num_list1, width=0.4, alpha=0.8, color='red', label=\"迁入到的省份所占的比例\")\n",
    "rects2 = plt.bar(x=[i + 0.4 for i in x], height=num_list2, width=0.4, color='green', label=\"迁出到的省份所占的比例\")\n",
    "plt.ylabel(\"百分比\",fontsize=20)\n",
    "\"\"\"\n",
    "设置x轴刻度显示值\n",
    "参数一：中点坐标\n",
    "参数二：显示值\n",
    "\"\"\"\n",
    "plt.xticks([index + 0.2 for index in x], label_list,fontsize=20)\n",
    "plt.yticks(fontsize=20)\n",
    "plt.ylim(0,100) #设置y轴的标尺\n",
    "plt.xlabel(\"省份\",fontsize=20)\n",
    "plt.title(\"2020年春节武汉迁徙柱状图\",fontsize=20)\n",
    "plt.legend(fontsize=20)     # 设置题注\n",
    "# 编辑文本\n",
    "for rect in rects1:\n",
    "    height = rect.get_height()\n",
    "    plt.text(rect.get_x() + rect.get_width() / 2, height+1, '%.2f'%float(height), ha=\"center\", va=\"bottom\",fontsize=18)\n",
    "for rect in rects2:\n",
    "    height = rect.get_height()\n",
    "    plt.text(rect.get_x() + rect.get_width() / 2, height+1, '%.2f'%float(height), ha=\"center\", va=\"bottom\",fontsize=18)\n",
    "\n",
    "plt.savefig('./draw_picture/2020年春节武汉迁徙柱状图.jpg')\n",
    "plt.show()\n"
   ]
  },
  {
   "cell_type": "code",
   "execution_count": 198,
   "metadata": {
    "ExecuteTime": {
     "end_time": "2021-07-30T17:00:27.101306Z",
     "start_time": "2021-07-30T17:00:26.653759Z"
    },
    "collapsed": true
   },
   "outputs": [
    {
     "data": {
      "image/png": "[encoded data removed]",
      "text/plain": [
       "<Figure size 1440x576 with 1 Axes>"
      ]
     },
     "metadata": {
      "needs_background": "light"
     },
     "output_type": "display_data"
    }
   ],
   "source": [
    "#2021年春节是2月12日\n",
    "import matplotlib.pyplot as plt\n",
    "import matplotlib\n",
    "# 设置中文字体和负号正常显示\n",
    "matplotlib.rcParams['font.sans-serif'] = ['SimHei']\n",
    "matplotlib.rcParams['axes.unicode_minus'] = False\n",
    "plt.figure(figsize=(20,8))\n",
    "label_list = namelist1[:10]    # 横坐标刻度显示值\n",
    "num_list1 = df2021[df2021['date']=='2021-02-12'][inlist1].values.tolist()[0][:10]      # 纵坐标值1\n",
    "num_list2 = df2021[df2021['date']=='2021-02-12'][tolist1].values.tolist()[0][:10]      # 纵坐标值2\n",
    "x = list(range(len(num_list1)))\n",
    "\"\"\"\n",
    "绘制条形图\n",
    "left:长条形中点横坐标\n",
    "height:长条形高度\n",
    "width:长条形宽度，默认值0.8\n",
    "label:为后面设置legend准备\n",
    "\"\"\"\n",
    "rects1 = plt.bar(x=x, height=num_list1, width=0.4, alpha=0.8, color='b', label=\"迁入到的省份所占的比例\")\n",
    "rects2 = plt.bar(x=[i + 0.4 for i in x], height=num_list2, width=0.4, color='y', label=\"迁出到的省份所占的比例\")\n",
    "plt.ylabel(\"百分比\",fontsize=20)\n",
    "\"\"\"\n",
    "设置x轴刻度显示值\n",
    "参数一：中点坐标\n",
    "参数二：显示值\n",
    "\"\"\"\n",
    "plt.xticks([index + 0.2 for index in x], label_list,fontsize=20)\n",
    "plt.yticks(fontsize=20)\n",
    "plt.ylim(0,100) #设置y轴的标尺\n",
    "plt.xlabel(\"省份\",fontsize=20)\n",
    "plt.title(\"2021年春节武汉迁徙柱状图\",fontsize=20)\n",
    "plt.legend(fontsize=20)     # 设置题注\n",
    "# 编辑文本\n",
    "for rect in rects1:\n",
    "    height = rect.get_height()\n",
    "    plt.text(rect.get_x() + rect.get_width() / 2, height+1, '%.2f'%float(height), ha=\"center\", va=\"bottom\",fontsize=18)\n",
    "for rect in rects2:\n",
    "    height = rect.get_height()\n",
    "    plt.text(rect.get_x() + rect.get_width() / 2, height+1, '%.2f'%float(height), ha=\"center\", va=\"bottom\",fontsize=18)\n",
    "    \n",
    "plt.savefig('./draw_picture/2021年春节武汉迁徙柱状图.jpg')\n",
    "plt.show()\n"
   ]
  },
  {
   "cell_type": "code",
   "execution_count": null,
   "metadata": {
    "ExecuteTime": {
     "end_time": "2021-07-30T16:18:26.107103Z",
     "start_time": "2021-07-30T16:18:26.089512Z"
    }
   },
   "outputs": [],
   "source": []
  },
  {
   "cell_type": "markdown",
   "metadata": {},
   "source": [
    "# 画图：城市"
   ]
  },
  {
   "cell_type": "markdown",
   "metadata": {},
   "source": [
    "## 城市活动强度折线图"
   ]
  },
  {
   "cell_type": "code",
   "execution_count": 65,
   "metadata": {
    "ExecuteTime": {
     "end_time": "2021-07-31T13:21:30.667464Z",
     "start_time": "2021-07-31T13:21:30.654558Z"
    }
   },
   "outputs": [],
   "source": [
    "import pandas as pd \n",
    "import os \n",
    "import matplotlib.pyplot as plt #导入图像库\n",
    "from matplotlib.pyplot import MultipleLocator #从pyplot导入MultipleLocator类，这个类用于设置刻度间隔\n",
    "if not os.path.exists('./draw_picture/city'):\n",
    "    os.mkdir('./draw_picture/city')"
   ]
  },
  {
   "cell_type": "code",
   "execution_count": 66,
   "metadata": {
    "ExecuteTime": {
     "end_time": "2021-07-31T13:21:30.714564Z",
     "start_time": "2021-07-31T13:21:30.701562Z"
    }
   },
   "outputs": [],
   "source": [
    "def pic_city(df0,df1,i,n):\n",
    "    #########################活动强度折线图#############################################\n",
    "    if n=='cityin':\n",
    "        n1='Immigration'\n",
    "    elif n=='cityto':\n",
    "        n1='Emmigration'\n",
    "    else:\n",
    "        n1='Inside'\n",
    "    plt.figure(figsize=(12,8))\n",
    "    color_sequence = ['#1f77b4', '#aec7e8', '#ff7f0e', '#ffbb78', '#2ca02c',\n",
    "                    '#98df8a', '#d62728', '#ff9896', '#9467bd', '#c5b0d5',\n",
    "                    '#8c564b', '#c49c94', '#e377c2', '#f7b6d2', '#7f7f7f',\n",
    "                    '#c7c7c7', '#bcbd22', '#dbdb8d', '#17becf', '#9edae5']\n",
    "    plt.plot(df0[n],label='2020', linewidth=2)\n",
    "    plt.plot(df1[n],label='2021', linewidth=2)\n",
    "    plt.title('City Human {} Activity Intensity'.format(n1),fontsize=20)\n",
    "    \n",
    "    # 设置刻度字体大小\n",
    "    plt.xticks(fontsize=20)\n",
    "    plt.yticks(fontsize=20)\n",
    "    plt.xlabel('Date',fontsize=20)\n",
    "    #设置x轴标签及其字号\n",
    "    plt.ylabel('Activity Intensity',fontsize=20)\n",
    "    #设置y轴标签及其字号\n",
    "\n",
    "    x_major_locator=MultipleLocator(30)\n",
    "    #把x轴的刻度间隔设置为1，并存在变量里\n",
    "    # y_major_locator=MultipleLocator(0.2)\n",
    "    # #把y轴的刻度间隔设置为10，并存在变量里\n",
    "    ax=plt.gca()\n",
    "    #ax为两条坐标轴的实例\n",
    "    ax.xaxis.set_major_locator(x_major_locator)\n",
    "    #把x轴的主刻度设置为1的倍数\n",
    "    # ax.yaxis.set_major_locator(y_major_locator)\n",
    "    # #把y轴的主刻度设置为10的倍数\n",
    "    ax.set_xticks([0,30,60,90,120])\n",
    "    ax.set_xticklabels(['1-Jan','1-Feb','1-Mar','1-Apr','1-May'])\n",
    "    \n",
    "    maxlen=df0[n].describe()['max'] if df0[n].describe()['max']>df1[n].describe()['max'] else df1[n].describe()['max']\n",
    "    minlen=df0[n].describe()['min'] if df0[n].describe()['min']<df1[n].describe()['min'] else df1[n].describe()['min']\n",
    "\n",
    "    plt.plot([22, 22], [0, maxlen], c=color_sequence[14], linestyle='--',label='Wuhan Lockdown') # 2020年1月22日\n",
    "    \n",
    "    plt.plot([47, 47], [0, maxlen], c=color_sequence[12], linestyle='--',label='After the Spring Festival') # 2021年2月17日\n",
    "    \n",
    "    plt.plot([56, 56], [0, maxlen], c=color_sequence[11], linestyle='--',label='Lantern Festival') # 2021年2月26日\n",
    "\n",
    "    plt.plot([92, 92], [0, maxlen], c=color_sequence[10], linestyle='--',label='Ching Ming Festival') # 2021年4月3日\n",
    "    \n",
    "    plt.ylim(0,maxlen)\n",
    "    plt.grid(axis='both',linestyle='dotted',color='b',alpha=.3) #, \n",
    "    plt.gca().spines[\"top\"].set_alpha(0.0)    \n",
    "    plt.gca().spines[\"right\"].set_alpha(0.0) \n",
    "    plt.legend(fontsize=12,loc='best')\n",
    "    plt.savefig('./draw_picture/city/'+i+'_'+n+'_line.jpg')\n",
    "    #plt.show()\n",
    "    plt.close()"
   ]
  },
  {
   "cell_type": "code",
   "execution_count": 67,
   "metadata": {
    "ExecuteTime": {
     "end_time": "2021-07-31T13:25:45.015929Z",
     "start_time": "2021-07-31T13:21:30.747689Z"
    }
   },
   "outputs": [
    {
     "name": "stdout",
     "output_type": "stream",
     "text": [
      "----输出完毕所有城市的活动强度折线图----\n"
     ]
    }
   ],
   "source": [
    "path2020='./covid_19_migration_2020/datas/clean_BDQXDate/'\n",
    "path2021='./covid_19_migration_2021/datas/clean_BDQXDate/'\n",
    "for i in os.listdir(path2020):\n",
    "    for j in os.listdir(path2020+i):\n",
    "        path0=path2020+i+'/'+j\n",
    "        path1=path2021+i+'/'+j\n",
    "        df0=pd.read_csv(path0,encoding='gbk')\n",
    "        df1=pd.read_csv(path1,encoding='gbk')\n",
    "        df1=df1.iloc[:len(df0),:] #把2021年和2020年保持一样的时间范围\n",
    "        pic_city(df0,df1,j[:-4],'cityin')\n",
    "        pic_city(df0,df1,j[:-4],'cityto')\n",
    "        pic_city(df0,df1,j[:-4],'incity')\n",
    "print('----输出完毕所有城市的活动强度折线图----')"
   ]
  },
  {
   "cell_type": "code",
   "execution_count": null,
   "metadata": {},
   "outputs": [],
   "source": []
  }
 ],
 "metadata": {
  "interpreter": {
   "hash": "a8f61be024eba58adef938c9aa1e29e02cb3dece83a5348b1a2dafd16a070453"
  },
  "kernelspec": {
   "display_name": "Python 3",
   "language": "python",
   "name": "python3"
  },
  "language_info": {
   "codemirror_mode": {
    "name": "ipython",
    "version": 3
   },
   "file_extension": ".py",
   "mimetype": "text/x-python",
   "name": "python",
   "nbconvert_exporter": "python",
   "pygments_lexer": "ipython3",
   "version": "3.8.5"
  },
  "toc": {
   "base_numbering": 1,
   "nav_menu": {},
   "number_sections": true,
   "sideBar": true,
   "skip_h1_title": false,
   "title_cell": "Table of Contents",
   "title_sidebar": "Contents",
   "toc_cell": false,
   "toc_position": {},
   "toc_section_display": true,
   "toc_window_display": false
  },
  "varInspector": {
   "cols": {
    "lenName": 16,
    "lenType": 16,
    "lenVar": 40
   },
   "kernels_config": {
    "python": {
     "delete_cmd_postfix": "",
     "delete_cmd_prefix": "del ",
     "library": "var_list.py",
     "varRefreshCmd": "print(var_dic_list())"
    },
    "r": {
     "delete_cmd_postfix": ") ",
     "delete_cmd_prefix": "rm(",
     "library": "var_list.r",
     "varRefreshCmd": "cat(var_dic_list()) "
    }
   },
   "types_to_exclude": [
    "module",
    "function",
    "builtin_function_or_method",
    "instance",
    "_Feature"
   ],
   "window_display": false
  }
 },
 "nbformat": 4,
 "nbformat_minor": 2
}
