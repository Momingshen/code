{
 "cells": [
  {
   "cell_type": "code",
   "execution_count": 1,
   "metadata": {
    "ExecuteTime": {
     "end_time": "2021-08-31T07:01:23.153078Z",
     "start_time": "2021-08-31T07:01:18.053242Z"
    }
   },
   "outputs": [
    {
     "name": "stderr",
     "output_type": "stream",
     "text": [
      "D:\\Anaconda3\\lib\\site-packages\\IPython\\core\\interactiveshell.py:3146: DtypeWarning: Columns (3,4,6,8,20,21,23,25,34,36,38,40,56,59,60,63,64,65,67,69) have mixed types.Specify dtype option on import or set low_memory=False.\n",
      "  has_raised = await self.run_ast_nodes(code_ast.body, cell_name,\n"
     ]
    },
    {
     "name": "stdout",
     "output_type": "stream",
     "text": [
      "(53370, 65) (17755, 65) (53370, 3) (17755, 3)\n"
     ]
    }
   ],
   "source": [
    "########################start##############################\n",
    "import pandas as pd\n",
    "df=pd.read_csv('./datas/Data_MergeNew.csv',index_col=0)\n",
    "df.index=pd.to_datetime(df.date,format='%Y-%m-%d') \n",
    "df.drop('date',axis=1,inplace=True)\n",
    "df_train=df.loc['2020-01-07':'2021-04-02'] \n",
    "df_test=df.loc['2021-04-02':'2021-04-23']\n",
    "\n",
    "name=['cityin','cityto','incity','city']\n",
    "name1=['cityin','cityto','incity']\n",
    "x_train=df_train.drop(name,axis=1).values  \n",
    "y_train=df_train[name1].values\n",
    "x_test=df_test.drop(name,axis=1).values  \n",
    "y_test=df_test[name1].values\n",
    "print(x_train.shape,x_test.shape,y_train.shape,y_test.shape)\n",
    "\n",
    "#####################标准化##############################\n",
    "from sklearn.preprocessing import StandardScaler\n",
    "ss = StandardScaler()\n",
    "ss.fit(x_train)\n",
    "x_train = ss.transform(x_train) \n",
    "x_test = ss.transform(x_test)"
   ]
  },
  {
   "cell_type": "code",
   "execution_count": 2,
   "metadata": {
    "ExecuteTime": {
     "end_time": "2021-08-31T07:01:27.087087Z",
     "start_time": "2021-08-31T07:01:26.180230Z"
    }
   },
   "outputs": [
    {
     "name": "stdout",
     "output_type": "stream",
     "text": [
      "---  new folder...  ---\n",
      "---  OK  ---\n"
     ]
    }
   ],
   "source": [
    "import csv\n",
    "import os\n",
    "import numpy as np\n",
    "import seaborn as sns\n",
    "import matplotlib.pyplot as plt\n",
    "import joblib\n",
    "plt.rcParams['font.sans-serif'] = ['SimHei']  # 中文字体设置-黑体\n",
    "plt.rcParams['axes.unicode_minus'] = False  # 解决保存图像是负号'-'显示为方块的问题\n",
    "sns.set(font='SimHei',font_scale=1.5)  # 解决Seaborn中文显示问题并调整字体大小\n",
    "sns.set_style(\"white\")\n",
    "def mkdir(path):\n",
    "    folder = os.path.exists(path)\n",
    "    if not folder:                   \n",
    "        os.makedirs(path)            \n",
    "        print(\"---  new folder...  ---\")\n",
    "        print(\"---  OK  ---\")\n",
    "    else:\n",
    "        print(\"---  There is this folder!  ---\")\n",
    "mkdir(\"./results_merge/\")        \n",
    "from sklearn.metrics import mean_absolute_error,mean_squared_error,median_absolute_error,r2_score,mean_squared_log_error\n",
    "\n",
    "def calculate(y_true, y_predict, n, p):\n",
    "    y_true = y_true\n",
    "    y_predict = y_predict\n",
    "    mse = mean_squared_error(y_true, y_predict)\n",
    "    rmse = np.sqrt(mean_squared_error(y_true, y_predict))\n",
    "    mae = mean_absolute_error(y_true, y_predict)\n",
    "    r2 = r2_score(y_true, y_predict)\n",
    "    mad = median_absolute_error(y_true, y_predict)\n",
    "    mape = np.mean(np.abs((y_true - y_predict) / y_true)) * 100\n",
    "    r2_adjusted = 1-((1-r2)*(n-1))/(n-p-1)\n",
    "    # print('MSE: ', mse)\n",
    "    # print('RMSE: ', rmse)\n",
    "    # print('MAE: ', mae)\n",
    "    # print('R2: ', r2)\n",
    "    # print('MAD:', mad)\n",
    "    # print('MAPE:', mape)\n",
    "    # print('R2_Adjusted: ',r2_adjusted)\n",
    "    return mse,rmse,mae,r2,mad,mape,r2_adjusted\n",
    "# 将参数和评估结果写入文件\n",
    "def write_csv_result(path_1,path_2,all_metrics,all_parameter):\n",
    "    with open(path_1,\"a\",encoding=\"utf-8\",newline=\"\")as f:\n",
    "        f = csv.writer(f)\n",
    "        f.writerow(all_metrics)\n",
    "    with open(path_2,\"a\",encoding=\"utf-8\",newline=\"\")as f:\n",
    "        f = csv.writer(f)\n",
    "        f.writerow(all_parameter)\n"
   ]
  },
  {
   "cell_type": "code",
   "execution_count": 6,
   "metadata": {
    "ExecuteTime": {
     "end_time": "2021-08-31T07:03:20.205392Z",
     "start_time": "2021-08-31T07:02:40.989371Z"
    }
   },
   "outputs": [
    {
     "name": "stdout",
     "output_type": "stream",
     "text": [
      "start....1/480\n"
     ]
    },
    {
     "name": "stderr",
     "output_type": "stream",
     "text": [
      "D:\\Anaconda3\\lib\\site-packages\\sklearn\\neural_network\\_multilayer_perceptron.py:587: UserWarning: Training interrupted by user.\n",
      "  warnings.warn(\"Training interrupted by user.\")\n"
     ]
    },
    {
     "ename": "KeyboardInterrupt",
     "evalue": "",
     "output_type": "error",
     "traceback": [
      "\u001b[1;31m---------------------------------------------------------------------------\u001b[0m",
      "\u001b[1;31mKeyboardInterrupt\u001b[0m                         Traceback (most recent call last)",
      "\u001b[1;32m<ipython-input-6-24e3f0c6e056>\u001b[0m in \u001b[0;36m<module>\u001b[1;34m\u001b[0m\n\u001b[0;32m    131\u001b[0m \u001b[1;33m\u001b[0m\u001b[0m\n\u001b[0;32m    132\u001b[0m \u001b[0mname\u001b[0m\u001b[1;33m=\u001b[0m\u001b[1;34m'Migration'\u001b[0m\u001b[1;33m\u001b[0m\u001b[1;33m\u001b[0m\u001b[0m\n\u001b[1;32m--> 133\u001b[1;33m \u001b[0madjust_mlp\u001b[0m\u001b[1;33m(\u001b[0m\u001b[0mx_train\u001b[0m\u001b[1;33m,\u001b[0m\u001b[0mx_test\u001b[0m\u001b[1;33m,\u001b[0m\u001b[0my_train\u001b[0m\u001b[1;33m,\u001b[0m\u001b[0my_test\u001b[0m\u001b[1;33m,\u001b[0m\u001b[0mname\u001b[0m\u001b[1;33m)\u001b[0m\u001b[1;33m\u001b[0m\u001b[1;33m\u001b[0m\u001b[0m\n\u001b[0m",
      "\u001b[1;32m<ipython-input-6-24e3f0c6e056>\u001b[0m in \u001b[0;36madjust_mlp\u001b[1;34m(train_x, test_x, train_y, test_y, name)\u001b[0m\n\u001b[0;32m     77\u001b[0m                         \u001b[0mpred_test2\u001b[0m\u001b[1;33m=\u001b[0m\u001b[1;33m[\u001b[0m\u001b[1;33m]\u001b[0m\u001b[1;33m\u001b[0m\u001b[1;33m\u001b[0m\u001b[0m\n\u001b[0;32m     78\u001b[0m                         \u001b[1;32mfor\u001b[0m \u001b[0mi\u001b[0m \u001b[1;32min\u001b[0m \u001b[0mpred_test\u001b[0m\u001b[1;33m:\u001b[0m\u001b[1;33m\u001b[0m\u001b[1;33m\u001b[0m\u001b[0m\n\u001b[1;32m---> 79\u001b[1;33m                             \u001b[0mpred_test2\u001b[0m\u001b[1;33m.\u001b[0m\u001b[0mappend\u001b[0m\u001b[1;33m(\u001b[0m\u001b[0mi\u001b[0m\u001b[1;33m[\u001b[0m\u001b[1;36m1\u001b[0m\u001b[1;33m]\u001b[0m\u001b[1;33m)\u001b[0m\u001b[1;33m\u001b[0m\u001b[1;33m\u001b[0m\u001b[0m\n\u001b[0m\u001b[0;32m     80\u001b[0m                         \u001b[0my_test3\u001b[0m\u001b[1;33m=\u001b[0m\u001b[1;33m[\u001b[0m\u001b[1;33m]\u001b[0m\u001b[1;33m\u001b[0m\u001b[1;33m\u001b[0m\u001b[0m\n\u001b[0;32m     81\u001b[0m                         \u001b[1;32mfor\u001b[0m \u001b[0mi\u001b[0m \u001b[1;32min\u001b[0m \u001b[0my_test\u001b[0m\u001b[1;33m:\u001b[0m\u001b[1;33m\u001b[0m\u001b[1;33m\u001b[0m\u001b[0m\n",
      "\u001b[1;31mKeyboardInterrupt\u001b[0m: "
     ]
    }
   ],
   "source": [
    "from itertools import combinations\n",
    "from sklearn.neural_network import MLPRegressor\n",
    "\n",
    "from sklearn.ensemble import BaggingRegressor\n",
    "import csv\n",
    "import os\n",
    "import numpy as np\n",
    "from sklearn.multioutput import RegressorChain\n",
    "def adjust_mlp(train_x,test_x,train_y,test_y,name):\n",
    "    path_a = \"./results_merge/\" + \"Mlp_\" + name + \"_\" + \"assess.csv\"\n",
    "    path_p = \"./results_merge/\" + \"Mlp_\" + name + \"_\" + \"parameter.csv\"\n",
    "    path_b = \"./results_merge/\" + \"Mlp_\" + name + \"_\" + \"best.csv\"\n",
    "    model_path = \"./results_merge/\" + \"Mlp_\" + name + \"_\" + \"best.m\"\n",
    "    all_assessed_values = []\n",
    "    all_parameter = []\n",
    "    max_iter = [5000,10000,15000,20000]\n",
    "    tol = [1e-3,2e-3,1e-4,1e-2]\n",
    "    learning_rate_init = [1e-2,1e-3,1e-4]\n",
    "    hidden_layer_sizes = list(combinations([64,32,16,8,4], 3))\n",
    "    all_nb = len(max_iter) * len(tol) * len(learning_rate_init) * len(hidden_layer_sizes)\n",
    "    num = 1\n",
    "    # 用于重启训练模型，提高效率，不重复跑相同的实验\n",
    "    if(os.path.exists(path_a)):\n",
    "        data = pd.read_csv(path_a)\n",
    "        if(data.shape[0]>1):\n",
    "            try:\n",
    "                nums = int(data.values[-1,0])\n",
    "            except:\n",
    "                nums=0\n",
    "        else:\n",
    "            nums = 0\n",
    "    else:\n",
    "        nums = 0\n",
    "        col_a = ['num','mse','rmse','mae','r2','mad','mape','r2_adjusted']\n",
    "        col_p = ['num','max_iter','tol','learning_rate_init','hidden_layer_sizes']\n",
    "        write_csv_result(path_a,path_p,col_a,col_p)\n",
    "    # 用于保存最好的模型\n",
    "    if(os.path.exists(path_b)):\n",
    "        # best_results = pd.read_csv(path_b)\n",
    "        # if(best_results.shape[0]>1):\n",
    "        #     best_result = best_results[\"rmse\"].values[-1]\n",
    "        # else:\n",
    "        best_result = 10*10**30\n",
    "    else:\n",
    "        with open(path_b,\"a\",encoding=\"utf-8\",newline=\"\")as f:\n",
    "            f = csv.writer(f)\n",
    "            f.writerow(['num','mse','rmse','mae','r2','mad','mape','r2_adjusted'])\n",
    "        best_result = 10*10**30\n",
    "\n",
    "    for m in max_iter:\n",
    "        for t in tol:\n",
    "            for l in learning_rate_init:\n",
    "                for hd in hidden_layer_sizes:\n",
    "                    if(nums>=num):\n",
    "                        num = num+1\n",
    "                    else:\n",
    "                        print(\"start....{}/{}\".format(num,all_nb))\n",
    "                        mlp = MLPRegressor(hidden_layer_sizes=hd, activation=\"relu\",\n",
    "                                         solver='adam', alpha=0.0001,\n",
    "                                         batch_size='auto', learning_rate=\"constant\",\n",
    "                                         learning_rate_init=l,\n",
    "                                         power_t=0.5, max_iter=m,tol=t)\n",
    "                        wrapper = RegressorChain(mlp)\n",
    "                        wrapper.fit(train_x,train_y)\n",
    "                        pred_test = wrapper.predict(test_x)\n",
    "\n",
    "                        y_test=test_y       \n",
    "                        y_test1=[]\n",
    "                        for i in y_test:\n",
    "                            y_test1.append(i[0])\n",
    "                        pred_test1=[]\n",
    "                        for i in pred_test:\n",
    "                            pred_test1.append(i[0])\n",
    "                        y_test2=[]\n",
    "                        for i in y_test:\n",
    "                            y_test2.append(i[1])\n",
    "                        pred_test2=[]\n",
    "                        for i in pred_test:\n",
    "                            pred_test2.append(i[1])\n",
    "                        y_test3=[]\n",
    "                        for i in y_test:\n",
    "                            y_test3.append(i[2])\n",
    "                        pred_test3=[]\n",
    "                        for i in pred_test:\n",
    "                            pred_test3.append(i[2])\n",
    "                        pred_test1 = np.array(pred_test1).reshape(-1,1)\n",
    "                        y_test1 = np.array(y_test1).reshape(-1,1)\n",
    "                        sample_n = pred_test1.shape[0]\n",
    "                        feature_n = x_test.shape[1]\n",
    "                        mse1,rmse1,mae1,r21,mad1,mape1,r2_adjusted1 = calculate(y_test1,pred_test1,sample_n,feature_n)\n",
    "\n",
    "\n",
    "                        pred_test2 = np.array(pred_test2).reshape(-1,1)\n",
    "                        y_test2 = np.array(y_test2).reshape(-1,1)\n",
    "                        sample_n = pred_test2.shape[0]\n",
    "                        feature_n = x_test.shape[1]\n",
    "                        mse2,rmse2,mae2,r22,mad2,mape2,r2_adjusted2 = calculate(y_test2,pred_test2,sample_n,feature_n)\n",
    "\n",
    "\n",
    "                        pred_test3 = np.array(pred_test3).reshape(-1,1)\n",
    "                        y_test3 = np.array(y_test3).reshape(-1,1)\n",
    "                        sample_n = pred_test3.shape[0]\n",
    "                        feature_n = x_test.shape[1]\n",
    "                        mse3,rmse3,mae3,r23,mad3,mape3,r2_adjusted3 = calculate(y_test3,pred_test3,sample_n,feature_n)\n",
    "\n",
    "\n",
    "                        pred_test4 = pred_test.reshape(-1,1)\n",
    "                        y_test4 = y_test.reshape(-1,1)\n",
    "                        sample_n = pred_test4.shape[0]\n",
    "                        feature_n = x_test.shape[1]\n",
    "                        mse,rmse,mae,r2,mad,mape,r2_adjusted = (mse1+mse2+mse3)/3,(rmse1+rmse2+rmse3)/3,(mae1+mae2+mae3)/3,(r21+r22+r23)/3,(mad1+mad2+mad3)/3,(mape1+mape2+mape3)/3,(r2_adjusted1+r2_adjusted2+r2_adjusted3)/3\n",
    "                        all_m = [num,mse,rmse,mae,r2,mad,mape,r2_adjusted]\n",
    "                        all_p = [num,m,t,l,hd]\n",
    "                        # print(all_m)\n",
    "                        write_csv_result(path_a,path_p,all_m,all_p)  \n",
    "\n",
    "                        if(rmse < best_result):\n",
    "                            joblib.dump(filename=model_path,value=mlp,compress=True)\n",
    "                            # joblib.dump(model,model_path)\n",
    "                            with open(path_b,\"w\",encoding=\"utf-8\",newline=\"\")as f:\n",
    "                                f = csv.writer(f)\n",
    "                                f.writerow([num,mse,rmse,mae,r2,mad,mape,r2_adjusted])\n",
    "                                f.writerow([num,mse1,rmse1,mae1,r21,mad1,mape1,r2_adjusted1])\n",
    "                                f.writerow([num,mse2,rmse2,mae2,r22,mad2,mape2,r2_adjusted2])\n",
    "                                f.writerow([num,mse3,rmse3,mae3,r23,mad3,mape3,r2_adjusted3])\n",
    "                            best_result = rmse\n",
    "                            print(\"current best result, mse:{},mae:{},rmse:{},mad:{},r2:{},mape:{},r2 adjusted:{}\".format(mse,mad,rmse,mad,r2,mape,r2_adjusted))\n",
    "                        print(\"end....\",num)\n",
    "                        num = num+1\n",
    "                        print(\"--------------------------------\")  \n",
    "                    \n",
    "name='Migration'\n",
    "adjust_mlp(x_train,x_test,y_train,y_test,name)"
   ]
  },
  {
   "cell_type": "code",
   "execution_count": null,
   "metadata": {},
   "outputs": [],
   "source": []
  }
 ],
 "metadata": {
  "kernelspec": {
   "display_name": "Python 3",
   "language": "python",
   "name": "python3"
  },
  "language_info": {
   "codemirror_mode": {
    "name": "ipython",
    "version": 3
   },
   "file_extension": ".py",
   "mimetype": "text/x-python",
   "name": "python",
   "nbconvert_exporter": "python",
   "pygments_lexer": "ipython3",
   "version": "3.8.5"
  },
  "toc": {
   "base_numbering": 1,
   "nav_menu": {},
   "number_sections": true,
   "sideBar": true,
   "skip_h1_title": false,
   "title_cell": "Table of Contents",
   "title_sidebar": "Contents",
   "toc_cell": false,
   "toc_position": {},
   "toc_section_display": true,
   "toc_window_display": false
  },
  "varInspector": {
   "cols": {
    "lenName": 16,
    "lenType": 16,
    "lenVar": 40
   },
   "kernels_config": {
    "python": {
     "delete_cmd_postfix": "",
     "delete_cmd_prefix": "del ",
     "library": "var_list.py",
     "varRefreshCmd": "print(var_dic_list())"
    },
    "r": {
     "delete_cmd_postfix": ") ",
     "delete_cmd_prefix": "rm(",
     "library": "var_list.r",
     "varRefreshCmd": "cat(var_dic_list()) "
    }
   },
   "types_to_exclude": [
    "module",
    "function",
    "builtin_function_or_method",
    "instance",
    "_Feature"
   ],
   "window_display": false
  }
 },
 "nbformat": 4,
 "nbformat_minor": 4
}
