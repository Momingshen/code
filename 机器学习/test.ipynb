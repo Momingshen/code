{
 "cells": [
  {
   "cell_type": "code",
   "execution_count": null,
   "metadata": {
    "ExecuteTime": {
     "start_time": "2021-05-12T12:17:23.096Z"
    }
   },
   "outputs": [],
   "source": [
    "# headers={'Host': '172.16.30.45',\n",
    "# 'Connection': 'keep-alive',\n",
    "# 'Accept': 'text/javascript, application/javascript, application/ecmascript, application/x-ecmascript, */*; q=0.01',\n",
    "# 'DNT': '1',\n",
    "# 'X-Requested-With': 'XMLHttpRequest',\n",
    "# 'User-Agent': 'Mozilla/5.0 (Windows NT 10.0; Win64; x64) AppleWebKit/537.36 (KHTML, like Gecko) Chrome/90.0.4430.93 Safari/537.36 Edg/90.0.818.51',\n",
    "# 'Referer': 'http://172.16.30.45/a79.htm?isReback=1',\n",
    "# 'Accept-Encoding': 'gzip, deflate',\n",
    "# 'Accept-Language': 'zh-CN,zh;q=0.9,en;q=0.8,en-GB;q=0.7,en-US;q=0.6'}\n",
    "\n",
    "\n",
    "import requests\n",
    "import re \n",
    "print('欢迎使用校园网登录\\n')\n",
    "\n",
    "import os\n",
    "if os.path.isfile('./id.json')==True:\n",
    "    f=open('./id.json','r')\n",
    "    txt=f.read()\n",
    "    num1=txt.split(',')[0]\n",
    "    num2=txt.split(',')[1]\n",
    "else:\n",
    "    f=open('./id.json','w')\n",
    "    num1=input('请输入账号：')\n",
    "    num2=input('请输入密码：')\n",
    "    f.write(num1+','+num2)\n",
    "    f.close()\n",
    "while(1):    \n",
    "    try:\n",
    "        url='http://172.16.30.45/drcom/login?callback=dr1620058048120&DDDDD={}&upass={}&0MKKey=123456&R1=0&R3=1&R6=0&para=00&v6ip=&_=1620058031830'.format(num1,num2)\n",
    "        data=requests.get(url)\n",
    "        text=data.text\n",
    "        NID=re.findall('\"NID\":\"(.*?)\"',text)[0]\n",
    "        break\n",
    "    except:\n",
    "        f=open('./id.json','w')\n",
    "        num1=input('请输入账号：')\n",
    "        num2=input('请输入密码：')\n",
    "        f.write(num1+','+num2)\n",
    "        f.close()\n",
    "\n",
    "result=re.findall('\"result\":(.*?)',text)[0]\n",
    "NID=re.findall('\"NID\":\"(.*?)\"',text)[0]\n",
    "uid=re.findall('\"uid\":\"(.*?)\"',text)[0]\n",
    "olmac=re.findall('\"olmac\":\"(.*?)\"',text)[0]\n",
    "olip=re.findall('\"olip\":\"(.*?)\"',text)[0]\n",
    "etime=re.findall('\"etime\":\"(.*?)\"',text)[0]\n",
    "ip=re.findall('\"v46ip\":\"(.*?)\"',text)[0]\n",
    "last_time=re.findall('\"stime\":\"(.*?)\"',text)[0]\n",
    "    \n",
    "import os,time\n",
    "print('登录成功')\n",
    "print('姓名：',NID)\n",
    "print('学号：',uid)\n",
    "print('上次登陆的ip是：',ip)\n",
    "print('本次登陆的ip是：',olip)\n",
    "print('上次登陆的时间是：',last_time)\n",
    "print('当前的时间是：',etime)\n",
    "print('当前的MAC地址是：',olmac)\n",
    "time.sleep(60)"
   ]
  },
  {
   "cell_type": "code",
   "execution_count": null,
   "metadata": {
    "ExecuteTime": {
     "end_time": "2021-05-11T17:09:06.985172Z",
     "start_time": "2021-05-11T17:08:40.234034Z"
    }
   },
   "outputs": [],
   "source": [
    "# import requests\n",
    "# import re,time,os \n",
    "# import pandas as pd \n",
    "# print('欢迎使用豆瓣获取影评系统\\n')\n",
    "\n",
    "# import os\n",
    "# if os.path.isfile('./cookie.json')==True:\n",
    "#     f=open('./cookie.json','r')\n",
    "#     txt=f.read()\n",
    "#     cookie=txt\n",
    "# else:\n",
    "#     f=open('./cookie.json','w')\n",
    "#     cookie=input('请输入cookie，即登陆豆瓣的信息：')\n",
    "#     f.write(cookie)\n",
    "#     f.close()\n",
    "\n",
    "# headers={'Cookie': str(cookie),\n",
    "#     'User-Agent': 'Mozilla/5.0 (Windows NT 10.0; Win64; x64) AppleWebKit/537.36 (KHTML, like Gecko) Chrome/90.0.4430.93 Safari/537.36 Edg/90.0.818.51'}\n",
    "\n",
    "# url1='https://movie.douban.com/chart'\n",
    "# idlist=requests.get(url1,headers=headers)\n",
    "# ids=re.findall('<a class=\"nbg\" href=\"(.*?)\"  title=\"(.*?)\">',idlist.text,re.S) #获取movie链接\n",
    "# if not os.path.exists('./movie/'):\n",
    "#     os.mkdir('./movie/')\n",
    "# for j in ids:\n",
    "#     num=0\n",
    "#     for i in range(0,200,20): #爬取10页\n",
    "#         url='{}comments?start={}&limit=20&status=P&sort=new_score'.format(j[0],i)\n",
    "#         time.sleep(0.6)\n",
    "#         try:\n",
    "#             data=requests.get(url,headers=headers)\n",
    "#             texts=data.text\n",
    "#             if num==0:\n",
    "#                 datas=re.findall('<span class=\"short\">(.*?)</span>',texts,re.S) #获取影评\n",
    "#                 num+=1\n",
    "#             else:\n",
    "#                 datas+=datas\n",
    "#         except:\n",
    "#             break\n",
    "#     pd.DataFrame(datas).to_csv('./movie/{}.csv'.format(j[1]),index=0,header=0,encoding='gb18030')\n",
    "#     print('电影名字：',j[1])\n",
    "#     print('保存影评完成。')\n",
    "# time.sleep(3)\n",
    "# os.system('cls')   #Windows清屏"
   ]
  },
  {
   "cell_type": "code",
   "execution_count": null,
   "metadata": {},
   "outputs": [],
   "source": []
  }
 ],
 "metadata": {
  "kernelspec": {
   "display_name": "Python 3",
   "language": "python",
   "name": "python3"
  },
  "language_info": {
   "codemirror_mode": {
    "name": "ipython",
    "version": 3
   },
   "file_extension": ".py",
   "mimetype": "text/x-python",
   "name": "python",
   "nbconvert_exporter": "python",
   "pygments_lexer": "ipython3",
   "version": "3.8.5"
  },
  "toc": {
   "base_numbering": 1,
   "nav_menu": {},
   "number_sections": true,
   "sideBar": true,
   "skip_h1_title": false,
   "title_cell": "Table of Contents",
   "title_sidebar": "Contents",
   "toc_cell": false,
   "toc_position": {},
   "toc_section_display": true,
   "toc_window_display": false
  },
  "varInspector": {
   "cols": {
    "lenName": 16,
    "lenType": 16,
    "lenVar": 40
   },
   "kernels_config": {
    "python": {
     "delete_cmd_postfix": "",
     "delete_cmd_prefix": "del ",
     "library": "var_list.py",
     "varRefreshCmd": "print(var_dic_list())"
    },
    "r": {
     "delete_cmd_postfix": ") ",
     "delete_cmd_prefix": "rm(",
     "library": "var_list.r",
     "varRefreshCmd": "cat(var_dic_list()) "
    }
   },
   "types_to_exclude": [
    "module",
    "function",
    "builtin_function_or_method",
    "instance",
    "_Feature"
   ],
   "window_display": false
  }
 },
 "nbformat": 4,
 "nbformat_minor": 4
}
