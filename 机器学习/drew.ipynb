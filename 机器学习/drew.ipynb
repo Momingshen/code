{
 "cells": [
  {
   "cell_type": "code",
   "execution_count": null,
   "metadata": {},
   "outputs": [],
   "source": [
    "# -*- codeing = utf-8 -*-\r\n",
    "import requests    #第三方模块 pip install requests\r\n",
    "import re    #正则表达式，进行文字匹配\r\n",
    "import time\r\n",
    "import xlwt    #进行excle操作\r\n",
    "#①爬取网页\r\n",
    "urlA = 'https://movie.douban.com/j/search_subjects?type=tv&tag=%E7%83%AD%E9%97%A8&sort=recommend&page_limit=20&page_start=0'\r\n",
    "#模拟浏览器头部信息，向豆瓣服务器发送消息\r\n",
    "#用户代理，告诉豆瓣服务器电脑的配置，本质上是告诉浏览器，可以接收什么水平的文件内容\r\n",
    "headers = {\"User-Agent\": \"Mozilla/5.0 (Windows NT 10.0; Win64; x64) AppleWebKit/537.36 (KHTML, like Gecko) Chrome/95.0.4638.54 Safari/537.36 Edg/95.0.1020.30\"}\r\n",
    "responseA = requests.get(url=urlA,headers=headers)\r\n",
    "#print(response.text)    #测试1,能不能把整个网页爬取出来\r\n",
    "ruleA=('.jpg\",\"id\":\"(.*?)\",\"cover_y\":')\r\n",
    "html_data=re.findall(ruleA,responseA.text)\r\n",
    "#print(html_data)\r\n",
    "urlB = 'https://movie.douban.com/subject/'\r\n",
    "datalist = []\r\n",
    "page = 2    #电视剧的数量\r\n",
    "\r\n",
    "for a in range(0,page):\r\n",
    "    urlC = urlB + str(html_data[a]) + str('/comments?status=P')\r\n",
    "    time.sleep(1)\r\n",
    "    #print(urlC)\r\n",
    "    print(\"=============正在爬取第%d页的数据内容=============\" % (a + 1))\r\n",
    "    responseB = requests.get(url=urlC, headers=headers)\r\n",
    "    #print(responseB.text)\r\n",
    "\r\n",
    "    ruleB = ('<span class=\"short\">(.*?)</span>')\r\n",
    "    pinglun = re.findall(ruleB, responseB.text)\r\n",
    "    print(pinglun)\r\n",
    "    datalist.append(pinglun)\r\n",
    "#print(datalist)\r\n",
    "\r\n",
    "#③保存数据\r\n",
    "print(\"数据保存中......\")\r\n",
    "workbook = xlwt.Workbook(encoding=\"utf-8\",style_compression=0)    #创建Workbook对象\r\n",
    "worksheet = workbook.add_sheet('豆瓣电视剧评论爬取',cell_overwrite_ok=True)    #创建工作表\r\n",
    "for i in range(0,1):\r\n",
    "    worksheet.write(0,i)\r\n",
    "for i in range(0,page*20):\r\n",
    "    print(\"第%d条\" %(i+1))\r\n",
    "    data = datalist[i]\r\n",
    "    for j in range(0,1):\r\n",
    "        worksheet.write(i+1,j,data[j])\r\n",
    "workbook.save('豆瓣电视剧评论爬取.xls')\r\n"
   ]
  }
 ],
 "metadata": {
  "interpreter": {
   "hash": "a8f61be024eba58adef938c9aa1e29e02cb3dece83a5348b1a2dafd16a070453"
  },
  "kernelspec": {
   "display_name": "Python 3.8.5 64-bit ('base': conda)",
   "name": "python3"
  },
  "language_info": {
   "name": "python",
   "version": ""
  },
  "orig_nbformat": 4
 },
 "nbformat": 4,
 "nbformat_minor": 2
}