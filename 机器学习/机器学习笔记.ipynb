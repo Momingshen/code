{
 "cells": [
  {
   "cell_type": "markdown",
   "metadata": {},
   "source": [
    "# AdaBoost算法"
   ]
  },
  {
   "cell_type": "markdown",
   "metadata": {},
   "source": [
    "Adaboost（Adaptive Boosting 自适应增强）是一种迭代算法，其核心思想是针对同一个训练集训练不同的分类器（弱分类器），然后把这些弱分类器集合起来，构成一个更强的最终分类器（强分类器）。\n",
    "\n",
    "概念：\\\n",
    "    1、先通过对N个训练样本的学习得到第一个弱分类器； \\\n",
    "    2、将分错的样本和其他的新数据一起构成一个新的N个的训练样本，通过对这个样本的学习得到第二个弱分类器； \\\n",
    "    3、将1和2都分错了的样本加上其他的新样本构成另一个新的N个的训练样本，通过对这个样本的学习得到第三个弱分类器 ;\\\n",
    "    4、最终由各分类器权值决定得到的强分类器。\n",
    "\n",
    "优点:\\\n",
    "（1)Adaboost是一种有很高精度的分类器 \\\n",
    "（2)可以使用各种方法构建子分类器,Adaboost算法提供的是框架 \\\n",
    "（3)当使用简单分类器时，计算出的结果是可以理解的。而且弱分类器构造极其简单 \\\n",
    "（4)简单，不用做特征筛选 \\\n",
    "（5)不用担心overfitting(过度拟合)\n",
    "\n",
    "缺点:\\\n",
    "（1)容易受到噪声干扰，这也是大部分算法的缺点\\\n",
    "（2)训练时间过长\\\n",
    "（3)执行效果依赖于弱分类器的选择"
   ]
  },
  {
   "cell_type": "code",
   "execution_count": null,
   "metadata": {},
   "outputs": [],
   "source": []
  },
  {
   "cell_type": "markdown",
   "metadata": {},
   "source": [
    "# 决策树(Decision Tree）"
   ]
  },
  {
   "cell_type": "markdown",
   "metadata": {},
   "source": [
    "决策树是一个预测模型；他代表的是对象属性与对象值之间的一种映射关系。树中每个节点表示某个对象，而每个分叉路径则代表某个可能的属性值，而每个叶节点则对应从根节点到该叶节点所经历的路径所表示的对象的值。决策树仅有单一输出，若欲有复数输出，可以建立独立的决策树以处理不同输出。 数据挖掘中决策树是一种经常要用到的技术，可以用于分析数据，同样也可以用来作预测。\\\n",
    "\n",
    "一个决策树包含三种类型的节点：\\\n",
    "1.决策节点：通常用矩形框来表示\\\n",
    "2.机会节点：通常用圆圈来表示\\\n",
    "3.终结点：通常用三角形来表示\n",
    "\n",
    "生成算法有：\\\n",
    "1.ID3算法是最早提出的决策树算法，由增熵（Entropy）原理来决定那个做父节点，是利用信息增益来选择特征的。\\\n",
    "    $Entropy＝-\\sum [p(x_i) * \\log_2(P(x_i)) ]$\n",
    "\n",
    "2.C4.5算法是 ID3 的改进版，他不是直接使用信息增益，而是引入“信息增益比”指标作为特征的选择依据。\\\n",
    "    改进ID3分割太细时，即过度学习（过度拟合的问题），分母增加，信息增益率会降低。\n",
    "\n",
    "3.CART（Classification and Regression Tree）算法即可以用于分类，也可以用于回归问题。CART 算法使用了基尼系数取代了信息熵模型。\\\n",
    "    GINI指数：总体内包含的类别越杂乱，GINI指数就越大（跟熵的概念很相似）。\n",
    "\n",
    "剪枝的主要目的是对抗「过拟合」，通过主动去掉部分分支来降低过拟合的风险。\n",
    "\n",
    "优点：\\\n",
    "1.决策树易于理解和解释，可以可视化分析，容易提取出规则,推出相应的逻辑表达式。。\\\n",
    "2.在相对短的时间内能够对大型数据源做出可行且效果良好的结果。\\\n",
    "3.测试数据集时，运行速度比较快。\\\n",
    "\n",
    "\n",
    "缺点：\\\n",
    "1)容易发生过拟合。\\\n",
    "2)容易忽略数据集中属性的相互关联。\\\n",
    "3)信息增益时结果偏向数值比较多的特征。"
   ]
  },
  {
   "cell_type": "code",
   "execution_count": null,
   "metadata": {},
   "outputs": [],
   "source": []
  }
 ],
 "metadata": {
  "kernelspec": {
   "display_name": "Python 3",
   "language": "python",
   "name": "python3"
  },
  "language_info": {
   "codemirror_mode": {
    "name": "ipython",
    "version": 3
   },
   "file_extension": ".py",
   "mimetype": "text/x-python",
   "name": "python",
   "nbconvert_exporter": "python",
   "pygments_lexer": "ipython3",
   "version": "3.8.5"
  },
  "toc": {
   "base_numbering": 1,
   "nav_menu": {},
   "number_sections": true,
   "sideBar": true,
   "skip_h1_title": false,
   "title_cell": "Table of Contents",
   "title_sidebar": "Contents",
   "toc_cell": false,
   "toc_position": {},
   "toc_section_display": true,
   "toc_window_display": false
  },
  "varInspector": {
   "cols": {
    "lenName": 16,
    "lenType": 16,
    "lenVar": 40
   },
   "kernels_config": {
    "python": {
     "delete_cmd_postfix": "",
     "delete_cmd_prefix": "del ",
     "library": "var_list.py",
     "varRefreshCmd": "print(var_dic_list())"
    },
    "r": {
     "delete_cmd_postfix": ") ",
     "delete_cmd_prefix": "rm(",
     "library": "var_list.r",
     "varRefreshCmd": "cat(var_dic_list()) "
    }
   },
   "types_to_exclude": [
    "module",
    "function",
    "builtin_function_or_method",
    "instance",
    "_Feature"
   ],
   "window_display": false
  }
 },
 "nbformat": 4,
 "nbformat_minor": 4
}
