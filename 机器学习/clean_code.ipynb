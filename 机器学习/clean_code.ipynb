{
 "cells": [
  {
   "cell_type": "code",
   "execution_count": 1,
   "metadata": {
    "ExecuteTime": {
     "end_time": "2021-08-30T07:26:36.173365Z",
     "start_time": "2021-08-30T07:26:36.165356Z"
    }
   },
   "outputs": [
    {
     "name": "stdout",
     "output_type": "stream",
     "text": [
      "---  new folder...  ---\n",
      "---  OK  ---\n"
     ]
    }
   ],
   "source": [
    "import os\n",
    "def mkdir(path):\n",
    "    folder = os.path.exists(path)\n",
    "    if not folder:                   \n",
    "        os.makedirs(path)            \n",
    "        print(\"---  new folder...  ---\")\n",
    "        print(\"---  OK  ---\")\n",
    "    else:\n",
    "        print(\"---  There is this folder!  ---\")\n",
    "mkdir(\"./datas_merge/\")        "
   ]
  },
  {
   "cell_type": "code",
   "execution_count": 62,
   "metadata": {
    "ExecuteTime": {
     "end_time": "2021-08-30T15:09:02.528788Z",
     "start_time": "2021-08-30T15:08:31.983676Z"
    }
   },
   "outputs": [
    {
     "name": "stderr",
     "output_type": "stream",
     "text": [
      "D:\\Anaconda3\\lib\\site-packages\\IPython\\core\\interactiveshell.py:3146: DtypeWarning: Columns (2,4,6,8,10,12,14,16,18,20,22,24,26,28,30,32,34,36,38,40,41,99,100,120,122,124,126,128,130,132,134,136,138,140,142,144,146,148,150,152,154,156,158,159,215,217,218,238,240,242,244,246,248,250,252,254,256,258,260,262,264,266,268,270,272,274,276,277,331,333,335,336,356,358,360,362,364,366,368,370,372,374,376,378,380,382,384,386,388,390,392,394,395) have mixed types.Specify dtype option on import or set low_memory=False.\n",
      "  has_raised = await self.run_ast_nodes(code_ast.body, cell_name,\n"
     ]
    },
    {
     "name": "stdout",
     "output_type": "stream",
     "text": [
      "(74587, 444)\n"
     ]
    }
   ],
   "source": [
    "import pandas as pd \n",
    "path2020='./covid_19_migration_2020/datas/Data_mergedata_7.csv'\n",
    "path2021='./covid_19_migration_2021/datas/Data_mergedata_7.csv'\n",
    "df0=pd.read_csv(path2020)\n",
    "df1=pd.read_csv(path2021)\n",
    "df=pd.concat([df0,df1])\n",
    "df.to_csv('./datas/Data_Merge.csv')\n",
    "print(df.shape)\n",
    "import pandas as pd \n",
    "df0=pd.read_csv('./datas/Data_new.csv')\n",
    "name=df0.columns.to_list()\n",
    "for i in ['_d1','_d2','_d3','_d4','_d5','_d6','_d7']:\n",
    "    for j in ['infected','recovered','removed','Population']:\n",
    "        k=j+i\n",
    "        if k.split('_')[0]!='Population':\n",
    "            name.append(k)\n",
    "        if k=='Population_d1':\n",
    "            name.append(k)\n",
    "df[name].to_csv('./datas/Data_MergeNew.csv')"
   ]
  }
 ],
 "metadata": {
  "kernelspec": {
   "display_name": "Python 3",
   "language": "python",
   "name": "python3"
  },
  "language_info": {
   "codemirror_mode": {
    "name": "ipython",
    "version": 3
   },
   "file_extension": ".py",
   "mimetype": "text/x-python",
   "name": "python",
   "nbconvert_exporter": "python",
   "pygments_lexer": "ipython3",
   "version": "3.8.5"
  },
  "toc": {
   "base_numbering": 1,
   "nav_menu": {},
   "number_sections": true,
   "sideBar": true,
   "skip_h1_title": false,
   "title_cell": "Table of Contents",
   "title_sidebar": "Contents",
   "toc_cell": false,
   "toc_position": {},
   "toc_section_display": true,
   "toc_window_display": false
  },
  "varInspector": {
   "cols": {
    "lenName": 16,
    "lenType": 16,
    "lenVar": 40
   },
   "kernels_config": {
    "python": {
     "delete_cmd_postfix": "",
     "delete_cmd_prefix": "del ",
     "library": "var_list.py",
     "varRefreshCmd": "print(var_dic_list())"
    },
    "r": {
     "delete_cmd_postfix": ") ",
     "delete_cmd_prefix": "rm(",
     "library": "var_list.r",
     "varRefreshCmd": "cat(var_dic_list()) "
    }
   },
   "types_to_exclude": [
    "module",
    "function",
    "builtin_function_or_method",
    "instance",
    "_Feature"
   ],
   "window_display": false
  }
 },
 "nbformat": 4,
 "nbformat_minor": 4
}
